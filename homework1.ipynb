{
  "nbformat": 4,
  "nbformat_minor": 0,
  "metadata": {
    "colab": {
      "provenance": [],
      "mount_file_id": "1V2xetM3GFCCtbrbaWKk_yZ2XDVcONAA1",
      "authorship_tag": "ABX9TyOw5K+0sX6us3o4TGvdfX/A",
      "include_colab_link": true
    },
    "kernelspec": {
      "name": "python3",
      "display_name": "Python 3"
    },
    "language_info": {
      "name": "python"
    },
    "accelerator": "GPU",
    "gpuClass": "standard"
  },
  "cells": [
    {
      "cell_type": "markdown",
      "metadata": {
        "id": "view-in-github",
        "colab_type": "text"
      },
      "source": [
        "<a href=\"https://colab.research.google.com/github/codedog1229/MachineLearning/blob/main/homework1.ipynb\" target=\"_parent\"><img src=\"https://colab.research.google.com/assets/colab-badge.svg\" alt=\"Open In Colab\"/></a>"
      ]
    },
    {
      "cell_type": "code",
      "execution_count": 1,
      "metadata": {
        "colab": {
          "base_uri": "https://localhost:8080/"
        },
        "id": "_pQeLX_wyBDx",
        "outputId": "06914272-e95f-4d02-ff80-cc7af94c3331"
      },
      "outputs": [
        {
          "output_type": "stream",
          "name": "stdout",
          "text": [
            "Drive already mounted at /content/drive; to attempt to forcibly remount, call drive.mount(\"/content/drive\", force_remount=True).\n"
          ]
        }
      ],
      "source": [
        "from google.colab import drive\n",
        "drive.mount('/content/drive')"
      ]
    },
    {
      "cell_type": "code",
      "source": [
        "!nvidia-smi"
      ],
      "metadata": {
        "id": "7HgLWL-uze3m",
        "colab": {
          "base_uri": "https://localhost:8080/"
        },
        "outputId": "e0e7da2b-6364-4c85-f175-a35fc102a344"
      },
      "execution_count": 3,
      "outputs": [
        {
          "output_type": "stream",
          "name": "stdout",
          "text": [
            "Thu May  4 06:16:20 2023       \n",
            "+-----------------------------------------------------------------------------+\n",
            "| NVIDIA-SMI 525.85.12    Driver Version: 525.85.12    CUDA Version: 12.0     |\n",
            "|-------------------------------+----------------------+----------------------+\n",
            "| GPU  Name        Persistence-M| Bus-Id        Disp.A | Volatile Uncorr. ECC |\n",
            "| Fan  Temp  Perf  Pwr:Usage/Cap|         Memory-Usage | GPU-Util  Compute M. |\n",
            "|                               |                      |               MIG M. |\n",
            "|===============================+======================+======================|\n",
            "|   0  Tesla T4            Off  | 00000000:00:04.0 Off |                    0 |\n",
            "| N/A   46C    P8     9W /  70W |      0MiB / 15360MiB |      0%      Default |\n",
            "|                               |                      |                  N/A |\n",
            "+-------------------------------+----------------------+----------------------+\n",
            "                                                                               \n",
            "+-----------------------------------------------------------------------------+\n",
            "| Processes:                                                                  |\n",
            "|  GPU   GI   CI        PID   Type   Process name                  GPU Memory |\n",
            "|        ID   ID                                                   Usage      |\n",
            "|=============================================================================|\n",
            "|  No running processes found                                                 |\n",
            "+-----------------------------------------------------------------------------+\n"
          ]
        }
      ]
    },
    {
      "cell_type": "code",
      "source": [
        "#下载资料\n",
        "!gdown --id '1kLSW_-cW2Huj7bh84YTdimGBOJaODiOS' --output covid.train.csv\n",
        "!gdown --id '1iiI5qROrAhZn-o4FPqsE97bMzDEFvIdg' --output covid.test.csv"
      ],
      "metadata": {
        "id": "FmEWDM-WZ7-0"
      },
      "execution_count": null,
      "outputs": []
    },
    {
      "cell_type": "code",
      "source": [
        "#导包\n",
        "# Numerical Operations\n",
        "import math\n",
        "import numpy as np\n",
        "\n",
        "# Reading/Writing Data\n",
        "import pandas as pd\n",
        "import os\n",
        "import csv\n",
        "\n",
        "# For Progress Bar\n",
        "from tqdm import tqdm\n",
        "\n",
        "# Pytorch\n",
        "import torch \n",
        "import torch.nn as nn\n",
        "from torch.utils.data import Dataset, DataLoader, random_split\n",
        "\n",
        "# For plotting learning curve\n",
        "from torch.utils.tensorboard import SummaryWriter"
      ],
      "metadata": {
        "id": "kuTZJpKNbt8G"
      },
      "execution_count": 4,
      "outputs": []
    },
    {
      "cell_type": "markdown",
      "source": [
        "# Some Utility Functions\n",
        "\n",
        "You do not need to modify this part."
      ],
      "metadata": {
        "id": "sZrCQw01cDco"
      }
    },
    {
      "cell_type": "code",
      "source": [
        "def same_seed(seed): \n",
        "    '''Fixes random number generator seeds for reproducibility.'''\n",
        "    torch.backends.cudnn.deterministic = True\n",
        "    torch.backends.cudnn.benchmark = False\n",
        "    np.random.seed(seed)\n",
        "    torch.manual_seed(seed)\n",
        "    if torch.cuda.is_available():\n",
        "        torch.cuda.manual_seed_all(seed)\n",
        "\n",
        "def train_valid_split(data_set, valid_ratio, seed):\n",
        "    '''Split provided training data into training set and validation set'''\n",
        "    valid_set_size = int(valid_ratio * len(data_set)) \n",
        "    train_set_size = len(data_set) - valid_set_size\n",
        "    train_set, valid_set = random_split(data_set, [train_set_size, valid_set_size], generator=torch.Generator().manual_seed(seed))\n",
        "    return np.array(train_set), np.array(valid_set)\n",
        "\n",
        "def predict(test_loader, model, device):\n",
        "    model.eval() # Set your model to evaluation mode.\n",
        "    preds = []\n",
        "    for x in tqdm(test_loader):\n",
        "        x = x.to(device)                        \n",
        "        with torch.no_grad():                   \n",
        "            pred = model(x)                     \n",
        "            preds.append(pred.detach().cpu())   \n",
        "    preds = torch.cat(preds, dim=0).numpy()  \n",
        "    return preds"
      ],
      "metadata": {
        "id": "oTmCo0vWcEb2"
      },
      "execution_count": 5,
      "outputs": []
    },
    {
      "cell_type": "markdown",
      "source": [
        "# **Dataset**"
      ],
      "metadata": {
        "id": "DGdj5Rp3cOii"
      }
    },
    {
      "cell_type": "code",
      "source": [
        "class COVID19Dataset(Dataset):\n",
        "  '''\n",
        "  X:Features.\n",
        "  Y:Target,if none,do prediction\n",
        "  '''\n",
        "  def __init__(self,x,y=None):\n",
        "    if y is None:\n",
        "      self.y = y\n",
        "    else:\n",
        "      self.y = torch.FloatTensor(y)\n",
        "    self.x = torch.FloatTensor(x)\n",
        "\n",
        "  def __getitem__(self,idx):\n",
        "    if self.y is None:\n",
        "      return self.x[idx]\n",
        "    else:\n",
        "      return self.x[idx],self.y[idx]\n",
        "  \n",
        "  def __len__(self):\n",
        "    return len(self.x)"
      ],
      "metadata": {
        "id": "SC5LfFyScJEa"
      },
      "execution_count": 6,
      "outputs": []
    },
    {
      "cell_type": "markdown",
      "source": [
        "# **Neural Network Model**\n",
        "Try out different model architectures by modifying the class below."
      ],
      "metadata": {
        "id": "XreruICXeAnv"
      }
    },
    {
      "cell_type": "code",
      "source": [
        "class My_Model(nn.Module):\n",
        "  def __init__(self,input_dim):\n",
        "    super(My_Model,self).__init__()\n",
        "    # TODO：修改模型的结构，注意维度。\n",
        "    self.layers = nn.Sequential(\n",
        "        nn.Linear(input_dim,16),\n",
        "        nn.ReLU(),\n",
        "        nn.Linear(16,8),\n",
        "        nn.ReLU(),\n",
        "        nn.Linear(8,1)\n",
        "    )\n",
        "  \n",
        "  def forward(self,x):\n",
        "    x = self.layers(x)\n",
        "    x = x.squeeze(1)\n",
        "    return x"
      ],
      "metadata": {
        "id": "R4sF4mhqd_aJ"
      },
      "execution_count": 24,
      "outputs": []
    },
    {
      "cell_type": "markdown",
      "source": [
        "# Feature Selection\n",
        "Choose features you deem useful by modifying the function below."
      ],
      "metadata": {
        "id": "iTwI-knqkQlm"
      }
    },
    {
      "cell_type": "code",
      "source": [
        "def select_feat(train_data, valid_data, test_data, select_all=True):\n",
        "  '''Select useful features to perform regression'''\n",
        "  #最后一行为y值\n",
        "  y_train,y_valid = train_data[:,-1],valid_data[:,-1]\n",
        "  raw_x_train,raw_x_valid,raw_x_test = train_data[:,:-1],valid_data[:,:-1],test_data\n",
        "  if(select_all):\n",
        "    feat_idx = list(range(raw_x_train.shape[1]))\n",
        "  else:\n",
        "    feat_idx = [0,1,2,3,4] # TODO: Select suitable feature columns.\n",
        "  return raw_x_train[:,feat_idx],raw_x_valid[:,feat_idx],raw_x_test[:,feat_idx],y_train,y_valid"
      ],
      "metadata": {
        "id": "Qna_fPWMfF48"
      },
      "execution_count": 9,
      "outputs": []
    },
    {
      "cell_type": "markdown",
      "source": [
        "# Training Loop"
      ],
      "metadata": {
        "id": "0q9soYvIllQv"
      }
    },
    {
      "cell_type": "code",
      "source": [
        "# Configurations\n",
        "#`config` contains hyper-parameters for training and the path to save your model."
      ],
      "metadata": {
        "id": "Ho-3O-42rVip"
      },
      "execution_count": null,
      "outputs": []
    },
    {
      "cell_type": "code",
      "source": [
        "def trainer(train_loader, valid_loader, model, config, device):\n",
        "  #定义Loss函数\n",
        "  criterion = nn.MSELoss(reduction='mean')\n",
        "  #定义优化器\n",
        "  optimizer = torch.optim.SGD(model.parameters(),lr=config['learning_rate'],momentum=0.9)\n",
        "  #SummaryWriter 类是您记录数据以供 TensorBoard 使用和可视化的主要入口\n",
        "  writer = SummaryWriter()\n",
        "\n",
        "  if not os.path.isdir('./models'):\n",
        "    os.mkdir('./models') #创建一个文件夹用来保存模型\n",
        "  \n",
        "  n_epochs = config['n_epochs']\n",
        "  best_loss = math.inf\n",
        "  step = 0\n",
        "  early_stop_count = 0\n",
        "\n",
        "  for epoch in range(n_epochs):\n",
        "    model.train()#将模型设置为训练模式\n",
        "    loss_record = []\n",
        "    #tqdm 是一个可视化训练进度的软件包。\n",
        "    train_pbar = tqdm(train_loader, position=0, leave=True)\n",
        "\n",
        "    for x,y in train_pbar:\n",
        "      optimizer.zero_grad()#设置梯度为0\n",
        "      x,y = x.to(device),y.to(device)#将张量放进对应的设备\n",
        "      pred = model(x)\n",
        "      #计算loss\n",
        "      loss = criterion(pred,y)\n",
        "      #反向传播计算梯度\n",
        "      loss.backward()\n",
        "      #更新参数\n",
        "      optimizer.step()\n",
        "      step += 1\n",
        "      loss_record.append(loss.detach().item())\n",
        "\n",
        "      #展示当前的进度和loss\n",
        "      train_pbar.set_description(f'Epoch[{epoch+1}/{n_epochs}]')\n",
        "      train_pbar.set_postfix({'loss':loss.detach().item()})\n",
        "\n",
        "    mean_train_loss = sum(loss_record)/len(loss_record)\n",
        "    writer.add_scalar('Loss/train',mean_train_loss,step)\n",
        "\n",
        "    model.eval()#将模型设置为验证模式\n",
        "    loss.record = []\n",
        "    for x,y in valid_loader:\n",
        "      x,y = x.to(device),y.to(device)\n",
        "      with torch.no_grad():\n",
        "        pred = model(x)\n",
        "        loss = criterion(pred,y)\n",
        "\n",
        "      loss_record.append(loss.item())\n",
        "    \n",
        "    mean_valid_loss = sum(loss_record)/len(loss_record)\n",
        "    print(f'Epoch [{epoch+1}/{n_epochs}]: Train loss: {mean_train_loss:.4f}, Valid loss: {mean_valid_loss:.4f}')\n",
        "    writer.add_scalar('Loss/valid', mean_valid_loss, step)\n",
        "\n",
        "    #判断\n",
        "    if mean_valid_loss<best_loss:\n",
        "      best_loss = mean_valid_loss\n",
        "      torch.save(model.state_dict(),config['save_path']) #保存你最好的模型\n",
        "      print('Saving model with loss{:.3f}...'.format(best_loss))\n",
        "      early_stop_count = 0\n",
        "    else: \n",
        "      early_stop_count += 1                                               \n",
        "    #提早结束训练\n",
        "    if early_stop_count >= config['early_stop']:\n",
        "      print('\\nModel is not improving, so we halt the training session.')\n",
        "      return"
      ],
      "metadata": {
        "id": "LZtHt_PPlhR5"
      },
      "execution_count": 13,
      "outputs": []
    },
    {
      "cell_type": "markdown",
      "source": [
        "# Configurations\n",
        "`config` contains hyper-parameters for training and the path to save your model."
      ],
      "metadata": {
        "id": "C3ko9MXatUiO"
      }
    },
    {
      "cell_type": "code",
      "source": [
        "device = 'cuda' if torch.cuda.is_available() else 'cpu'\n",
        "config = {\n",
        "    'seed': 5201314,      # Your seed number, you can pick your lucky number. :)\n",
        "    'select_all': True,   # Whether to use all features.\n",
        "    'valid_ratio': 0.2,   # validation_size = train_size * valid_ratio\n",
        "    'n_epochs': 3000,     # Number of epochs.            \n",
        "    'batch_size': 256, \n",
        "    'learning_rate': 1e-5,              \n",
        "    'early_stop': 400,    # If model has not improved for this many consecutive epochs, stop training.     \n",
        "    'save_path': './models/model.ckpt'  # Your model will be saved here.\n",
        "}"
      ],
      "metadata": {
        "id": "zzmtKzn7tYgM"
      },
      "execution_count": 16,
      "outputs": []
    },
    {
      "cell_type": "markdown",
      "source": [
        "# Dataloader\n",
        "Read data from files and set up training, validation, and testing sets. You do not need to modify this part."
      ],
      "metadata": {
        "id": "mYzRjPNLth7p"
      }
    },
    {
      "cell_type": "code",
      "source": [
        "%cd '/content/drive/MyDrive/ML2023/homework1'"
      ],
      "metadata": {
        "colab": {
          "base_uri": "https://localhost:8080/"
        },
        "id": "1JTzvcmWtfIF",
        "outputId": "411c554f-0165-41d5-a411-30a9a978715d"
      },
      "execution_count": 14,
      "outputs": [
        {
          "output_type": "stream",
          "name": "stdout",
          "text": [
            "/content/drive/MyDrive/ML2023/homework1\n"
          ]
        }
      ]
    },
    {
      "cell_type": "code",
      "source": [
        "# Set seed for reproducibility\n",
        "same_seed(config['seed'])\n",
        "# train_data size: 2699 x 118 (id + 37 states + 16 features x 5 days) \n",
        "# test_data size: 1078 x 117 (without last day's positive rate)\n",
        "train_data, test_data = pd.read_csv('./covid_train.csv').values, pd.read_csv('./covid_test.csv').values\n",
        "train_data, valid_data = train_valid_split(train_data, config['valid_ratio'], config['seed'])\n",
        "# Print out the data size.\n",
        "print(f\"\"\"train_data size: {train_data.shape} \n",
        "valid_data size: {valid_data.shape} \n",
        "test_data size: {test_data.shape}\"\"\")"
      ],
      "metadata": {
        "colab": {
          "base_uri": "https://localhost:8080/"
        },
        "id": "If5uLeQPt0aN",
        "outputId": "0f3a6920-49b0-40dc-ed67-ffcab6e1989a"
      },
      "execution_count": 18,
      "outputs": [
        {
          "output_type": "stream",
          "name": "stdout",
          "text": [
            "train_data size: (2408, 89) \n",
            "valid_data size: (601, 89) \n",
            "test_data size: (997, 88)\n"
          ]
        }
      ]
    },
    {
      "cell_type": "code",
      "source": [
        "# Select features\n",
        "x_train, x_valid, x_test, y_train, y_valid = select_feat(train_data, valid_data, test_data, config['select_all'])\n",
        "# Print out the number of features.\n",
        "print(f'number of features: {x_train.shape[1]}')"
      ],
      "metadata": {
        "colab": {
          "base_uri": "https://localhost:8080/"
        },
        "id": "Nk6djdLwuK4A",
        "outputId": "a9bfd038-b29f-457e-e598-74fab02d1706"
      },
      "execution_count": 20,
      "outputs": [
        {
          "output_type": "stream",
          "name": "stdout",
          "text": [
            "number of features: 88\n"
          ]
        }
      ]
    },
    {
      "cell_type": "code",
      "source": [
        "train_dataset, valid_dataset, test_dataset = COVID19Dataset(x_train, y_train),COVID19Dataset(x_valid, y_valid),COVID19Dataset(x_test)"
      ],
      "metadata": {
        "id": "HinuthcGua6Q"
      },
      "execution_count": 21,
      "outputs": []
    },
    {
      "cell_type": "code",
      "source": [
        "# Pytorch data loader loads pytorch dataset into batches.\n",
        "train_loader = DataLoader(train_dataset, batch_size=config['batch_size'], shuffle=True, pin_memory=True)\n",
        "valid_loader = DataLoader(valid_dataset, batch_size=config['batch_size'], shuffle=True, pin_memory=True)\n",
        "test_loader = DataLoader(test_dataset, batch_size=config['batch_size'], shuffle=False, pin_memory=True)"
      ],
      "metadata": {
        "id": "5rkIkjj5umFV"
      },
      "execution_count": 22,
      "outputs": []
    },
    {
      "cell_type": "markdown",
      "source": [
        "# Start Training!"
      ],
      "metadata": {
        "id": "yCF7Cm9Fu0Lh"
      }
    },
    {
      "cell_type": "code",
      "source": [
        "model = My_Model(input_dim=x_train.shape[1]).to(device) # put your model and data on the same computation device.\n",
        "trainer(train_loader, valid_loader, model, config, device)"
      ],
      "metadata": {
        "colab": {
          "base_uri": "https://localhost:8080/"
        },
        "id": "AhWVpQ96uxnT",
        "outputId": "ad8ae62f-de19-47b4-e313-56f425b1c730"
      },
      "execution_count": 25,
      "outputs": [
        {
          "output_type": "stream",
          "name": "stderr",
          "text": [
            "Epoch[1/3000]: 100%|██████████| 10/10 [00:02<00:00,  3.56it/s, loss=290]\n"
          ]
        },
        {
          "output_type": "stream",
          "name": "stdout",
          "text": [
            "Epoch [1/3000]: Train loss: 334.8469, Valid loss: 280.7511\n",
            "Saving model with loss280.751...\n"
          ]
        },
        {
          "output_type": "stream",
          "name": "stderr",
          "text": [
            "Epoch[2/3000]: 100%|██████████| 10/10 [00:00<00:00, 125.45it/s, loss=175]\n"
          ]
        },
        {
          "output_type": "stream",
          "name": "stdout",
          "text": [
            "Epoch [2/3000]: Train loss: 141.2223, Valid loss: 139.2577\n",
            "Saving model with loss139.258...\n"
          ]
        },
        {
          "output_type": "stream",
          "name": "stderr",
          "text": [
            "Epoch[3/3000]: 100%|██████████| 10/10 [00:00<00:00, 135.15it/s, loss=176]\n"
          ]
        },
        {
          "output_type": "stream",
          "name": "stdout",
          "text": [
            "Epoch [3/3000]: Train loss: 131.5447, Valid loss: 123.0023\n",
            "Saving model with loss123.002...\n"
          ]
        },
        {
          "output_type": "stream",
          "name": "stderr",
          "text": [
            "Epoch[4/3000]: 100%|██████████| 10/10 [00:00<00:00, 134.24it/s, loss=95.3]\n"
          ]
        },
        {
          "output_type": "stream",
          "name": "stdout",
          "text": [
            "Epoch [4/3000]: Train loss: 112.7463, Valid loss: 112.7983\n",
            "Saving model with loss112.798...\n"
          ]
        },
        {
          "output_type": "stream",
          "name": "stderr",
          "text": [
            "Epoch[5/3000]: 100%|██████████| 10/10 [00:00<00:00, 112.19it/s, loss=64.8]\n"
          ]
        },
        {
          "output_type": "stream",
          "name": "stdout",
          "text": [
            "Epoch [5/3000]: Train loss: 97.7331, Valid loss: 95.4611\n",
            "Saving model with loss95.461...\n"
          ]
        },
        {
          "output_type": "stream",
          "name": "stderr",
          "text": [
            "Epoch[6/3000]: 100%|██████████| 10/10 [00:00<00:00, 119.18it/s, loss=88.2]\n"
          ]
        },
        {
          "output_type": "stream",
          "name": "stdout",
          "text": [
            "Epoch [6/3000]: Train loss: 92.2806, Valid loss: 87.0581\n",
            "Saving model with loss87.058...\n"
          ]
        },
        {
          "output_type": "stream",
          "name": "stderr",
          "text": [
            "Epoch[7/3000]: 100%|██████████| 10/10 [00:00<00:00, 125.18it/s, loss=62.1]\n"
          ]
        },
        {
          "output_type": "stream",
          "name": "stdout",
          "text": [
            "Epoch [7/3000]: Train loss: 75.9631, Valid loss: 74.0857\n",
            "Saving model with loss74.086...\n"
          ]
        },
        {
          "output_type": "stream",
          "name": "stderr",
          "text": [
            "Epoch[8/3000]: 100%|██████████| 10/10 [00:00<00:00, 126.51it/s, loss=67.7]\n"
          ]
        },
        {
          "output_type": "stream",
          "name": "stdout",
          "text": [
            "Epoch [8/3000]: Train loss: 69.4251, Valid loss: 68.0830\n",
            "Saving model with loss68.083...\n"
          ]
        },
        {
          "output_type": "stream",
          "name": "stderr",
          "text": [
            "Epoch[9/3000]: 100%|██████████| 10/10 [00:00<00:00, 116.01it/s, loss=59.3]\n"
          ]
        },
        {
          "output_type": "stream",
          "name": "stdout",
          "text": [
            "Epoch [9/3000]: Train loss: 70.2046, Valid loss: 69.1822\n"
          ]
        },
        {
          "output_type": "stream",
          "name": "stderr",
          "text": [
            "Epoch[10/3000]: 100%|██████████| 10/10 [00:00<00:00, 118.62it/s, loss=57.1]\n"
          ]
        },
        {
          "output_type": "stream",
          "name": "stdout",
          "text": [
            "Epoch [10/3000]: Train loss: 63.5749, Valid loss: 63.5771\n",
            "Saving model with loss63.577...\n"
          ]
        },
        {
          "output_type": "stream",
          "name": "stderr",
          "text": [
            "Epoch[11/3000]: 100%|██████████| 10/10 [00:00<00:00, 126.13it/s, loss=63.1]"
          ]
        },
        {
          "output_type": "stream",
          "name": "stdout",
          "text": [
            "Epoch [11/3000]: Train loss: 60.6467, Valid loss: 58.7418\n"
          ]
        },
        {
          "output_type": "stream",
          "name": "stderr",
          "text": [
            "\n"
          ]
        },
        {
          "output_type": "stream",
          "name": "stdout",
          "text": [
            "Saving model with loss58.742...\n"
          ]
        },
        {
          "output_type": "stream",
          "name": "stderr",
          "text": [
            "Epoch[12/3000]: 100%|██████████| 10/10 [00:00<00:00, 34.01it/s, loss=46.7]\n"
          ]
        },
        {
          "output_type": "stream",
          "name": "stdout",
          "text": [
            "Epoch [12/3000]: Train loss: 54.6824, Valid loss: 53.3160\n",
            "Saving model with loss53.316...\n"
          ]
        },
        {
          "output_type": "stream",
          "name": "stderr",
          "text": [
            "Epoch[13/3000]: 100%|██████████| 10/10 [00:00<00:00, 119.25it/s, loss=61.8]\n"
          ]
        },
        {
          "output_type": "stream",
          "name": "stdout",
          "text": [
            "Epoch [13/3000]: Train loss: 65.8965, Valid loss: 61.4909\n"
          ]
        },
        {
          "output_type": "stream",
          "name": "stderr",
          "text": [
            "Epoch[14/3000]: 100%|██████████| 10/10 [00:00<00:00, 121.18it/s, loss=35.3]\n"
          ]
        },
        {
          "output_type": "stream",
          "name": "stdout",
          "text": [
            "Epoch [14/3000]: Train loss: 47.8016, Valid loss: 45.7947\n",
            "Saving model with loss45.795...\n"
          ]
        },
        {
          "output_type": "stream",
          "name": "stderr",
          "text": [
            "Epoch[15/3000]: 100%|██████████| 10/10 [00:00<00:00, 118.16it/s, loss=54.1]\n"
          ]
        },
        {
          "output_type": "stream",
          "name": "stdout",
          "text": [
            "Epoch [15/3000]: Train loss: 59.1819, Valid loss: 53.5296\n"
          ]
        },
        {
          "output_type": "stream",
          "name": "stderr",
          "text": [
            "Epoch[16/3000]: 100%|██████████| 10/10 [00:00<00:00, 108.79it/s, loss=55.2]\n"
          ]
        },
        {
          "output_type": "stream",
          "name": "stdout",
          "text": [
            "Epoch [16/3000]: Train loss: 49.3881, Valid loss: 45.7288\n",
            "Saving model with loss45.729...\n"
          ]
        },
        {
          "output_type": "stream",
          "name": "stderr",
          "text": [
            "Epoch[17/3000]: 100%|██████████| 10/10 [00:00<00:00, 122.66it/s, loss=70.7]\n"
          ]
        },
        {
          "output_type": "stream",
          "name": "stdout",
          "text": [
            "Epoch [17/3000]: Train loss: 50.2173, Valid loss: 73.3853\n"
          ]
        },
        {
          "output_type": "stream",
          "name": "stderr",
          "text": [
            "Epoch[18/3000]: 100%|██████████| 10/10 [00:00<00:00, 118.77it/s, loss=83.7]\n"
          ]
        },
        {
          "output_type": "stream",
          "name": "stdout",
          "text": [
            "Epoch [18/3000]: Train loss: 88.6969, Valid loss: 79.3175\n"
          ]
        },
        {
          "output_type": "stream",
          "name": "stderr",
          "text": [
            "Epoch[19/3000]: 100%|██████████| 10/10 [00:00<00:00, 131.43it/s, loss=62.1]\n"
          ]
        },
        {
          "output_type": "stream",
          "name": "stdout",
          "text": [
            "Epoch [19/3000]: Train loss: 66.8243, Valid loss: 62.5365\n"
          ]
        },
        {
          "output_type": "stream",
          "name": "stderr",
          "text": [
            "Epoch[20/3000]: 100%|██████████| 10/10 [00:00<00:00, 138.86it/s, loss=44.4]\n"
          ]
        },
        {
          "output_type": "stream",
          "name": "stdout",
          "text": [
            "Epoch [20/3000]: Train loss: 42.2841, Valid loss: 39.1793\n",
            "Saving model with loss39.179...\n"
          ]
        },
        {
          "output_type": "stream",
          "name": "stderr",
          "text": [
            "Epoch[21/3000]: 100%|██████████| 10/10 [00:00<00:00, 129.22it/s, loss=24.3]\n"
          ]
        },
        {
          "output_type": "stream",
          "name": "stdout",
          "text": [
            "Epoch [21/3000]: Train loss: 28.0375, Valid loss: 27.5645\n",
            "Saving model with loss27.565...\n"
          ]
        },
        {
          "output_type": "stream",
          "name": "stderr",
          "text": [
            "Epoch[22/3000]: 100%|██████████| 10/10 [00:00<00:00, 124.56it/s, loss=12.3]\n"
          ]
        },
        {
          "output_type": "stream",
          "name": "stdout",
          "text": [
            "Epoch [22/3000]: Train loss: 17.4288, Valid loss: 18.8565\n",
            "Saving model with loss18.856...\n"
          ]
        },
        {
          "output_type": "stream",
          "name": "stderr",
          "text": [
            "Epoch[23/3000]: 100%|██████████| 10/10 [00:00<00:00, 129.48it/s, loss=382]\n"
          ]
        },
        {
          "output_type": "stream",
          "name": "stdout",
          "text": [
            "Epoch [23/3000]: Train loss: 299.4843, Valid loss: 318.7034\n"
          ]
        },
        {
          "output_type": "stream",
          "name": "stderr",
          "text": [
            "Epoch[24/3000]: 100%|██████████| 10/10 [00:00<00:00, 121.37it/s, loss=375]\n"
          ]
        },
        {
          "output_type": "stream",
          "name": "stdout",
          "text": [
            "Epoch [24/3000]: Train loss: 395.0949, Valid loss: 394.5899\n"
          ]
        },
        {
          "output_type": "stream",
          "name": "stderr",
          "text": [
            "Epoch[25/3000]: 100%|██████████| 10/10 [00:00<00:00, 115.07it/s, loss=384]\n"
          ]
        },
        {
          "output_type": "stream",
          "name": "stdout",
          "text": [
            "Epoch [25/3000]: Train loss: 394.9482, Valid loss: 392.4311\n"
          ]
        },
        {
          "output_type": "stream",
          "name": "stderr",
          "text": [
            "Epoch[26/3000]: 100%|██████████| 10/10 [00:00<00:00, 119.22it/s, loss=398]\n"
          ]
        },
        {
          "output_type": "stream",
          "name": "stdout",
          "text": [
            "Epoch [26/3000]: Train loss: 394.6521, Valid loss: 392.9078\n"
          ]
        },
        {
          "output_type": "stream",
          "name": "stderr",
          "text": [
            "Epoch[27/3000]: 100%|██████████| 10/10 [00:00<00:00, 130.99it/s, loss=462]\n"
          ]
        },
        {
          "output_type": "stream",
          "name": "stdout",
          "text": [
            "Epoch [27/3000]: Train loss: 397.3459, Valid loss: 394.0547\n"
          ]
        },
        {
          "output_type": "stream",
          "name": "stderr",
          "text": [
            "Epoch[28/3000]: 100%|██████████| 10/10 [00:00<00:00, 126.83it/s, loss=341]\n"
          ]
        },
        {
          "output_type": "stream",
          "name": "stdout",
          "text": [
            "Epoch [28/3000]: Train loss: 389.0013, Valid loss: 388.4891\n"
          ]
        },
        {
          "output_type": "stream",
          "name": "stderr",
          "text": [
            "Epoch[29/3000]: 100%|██████████| 10/10 [00:00<00:00, 145.23it/s, loss=342]\n"
          ]
        },
        {
          "output_type": "stream",
          "name": "stdout",
          "text": [
            "Epoch [29/3000]: Train loss: 387.9093, Valid loss: 389.4911\n"
          ]
        },
        {
          "output_type": "stream",
          "name": "stderr",
          "text": [
            "Epoch[30/3000]: 100%|██████████| 10/10 [00:00<00:00, 125.20it/s, loss=373]\n"
          ]
        },
        {
          "output_type": "stream",
          "name": "stdout",
          "text": [
            "Epoch [30/3000]: Train loss: 388.6957, Valid loss: 388.9239\n"
          ]
        },
        {
          "output_type": "stream",
          "name": "stderr",
          "text": [
            "Epoch[31/3000]: 100%|██████████| 10/10 [00:00<00:00, 130.23it/s, loss=390]\n"
          ]
        },
        {
          "output_type": "stream",
          "name": "stdout",
          "text": [
            "Epoch [31/3000]: Train loss: 388.6074, Valid loss: 388.4086\n"
          ]
        },
        {
          "output_type": "stream",
          "name": "stderr",
          "text": [
            "Epoch[32/3000]: 100%|██████████| 10/10 [00:00<00:00, 138.20it/s, loss=383]\n"
          ]
        },
        {
          "output_type": "stream",
          "name": "stdout",
          "text": [
            "Epoch [32/3000]: Train loss: 387.0555, Valid loss: 388.6666\n"
          ]
        },
        {
          "output_type": "stream",
          "name": "stderr",
          "text": [
            "Epoch[33/3000]: 100%|██████████| 10/10 [00:00<00:00, 120.21it/s, loss=430]\n"
          ]
        },
        {
          "output_type": "stream",
          "name": "stdout",
          "text": [
            "Epoch [33/3000]: Train loss: 388.7729, Valid loss: 389.9813\n"
          ]
        },
        {
          "output_type": "stream",
          "name": "stderr",
          "text": [
            "Epoch[34/3000]: 100%|██████████| 10/10 [00:00<00:00, 117.04it/s, loss=370]\n"
          ]
        },
        {
          "output_type": "stream",
          "name": "stdout",
          "text": [
            "Epoch [34/3000]: Train loss: 384.1466, Valid loss: 381.0232\n"
          ]
        },
        {
          "output_type": "stream",
          "name": "stderr",
          "text": [
            "Epoch[35/3000]: 100%|██████████| 10/10 [00:00<00:00, 126.12it/s, loss=432]\n"
          ]
        },
        {
          "output_type": "stream",
          "name": "stdout",
          "text": [
            "Epoch [35/3000]: Train loss: 386.7026, Valid loss: 385.2754\n"
          ]
        },
        {
          "output_type": "stream",
          "name": "stderr",
          "text": [
            "Epoch[36/3000]: 100%|██████████| 10/10 [00:00<00:00, 130.85it/s, loss=427]\n"
          ]
        },
        {
          "output_type": "stream",
          "name": "stdout",
          "text": [
            "Epoch [36/3000]: Train loss: 385.3542, Valid loss: 383.3548\n"
          ]
        },
        {
          "output_type": "stream",
          "name": "stderr",
          "text": [
            "Epoch[37/3000]: 100%|██████████| 10/10 [00:00<00:00, 110.72it/s, loss=405]\n"
          ]
        },
        {
          "output_type": "stream",
          "name": "stdout",
          "text": [
            "Epoch [37/3000]: Train loss: 382.9461, Valid loss: 379.6584\n"
          ]
        },
        {
          "output_type": "stream",
          "name": "stderr",
          "text": [
            "Epoch[38/3000]: 100%|██████████| 10/10 [00:00<00:00, 115.77it/s, loss=392]\n"
          ]
        },
        {
          "output_type": "stream",
          "name": "stdout",
          "text": [
            "Epoch [38/3000]: Train loss: 381.1482, Valid loss: 381.3315\n"
          ]
        },
        {
          "output_type": "stream",
          "name": "stderr",
          "text": [
            "Epoch[39/3000]: 100%|██████████| 10/10 [00:00<00:00, 128.95it/s, loss=352]\n"
          ]
        },
        {
          "output_type": "stream",
          "name": "stdout",
          "text": [
            "Epoch [39/3000]: Train loss: 377.7091, Valid loss: 375.6143\n"
          ]
        },
        {
          "output_type": "stream",
          "name": "stderr",
          "text": [
            "Epoch[40/3000]: 100%|██████████| 10/10 [00:00<00:00, 137.28it/s, loss=364]\n"
          ]
        },
        {
          "output_type": "stream",
          "name": "stdout",
          "text": [
            "Epoch [40/3000]: Train loss: 377.3276, Valid loss: 377.1890\n"
          ]
        },
        {
          "output_type": "stream",
          "name": "stderr",
          "text": [
            "Epoch[41/3000]: 100%|██████████| 10/10 [00:00<00:00, 137.26it/s, loss=372]\n"
          ]
        },
        {
          "output_type": "stream",
          "name": "stdout",
          "text": [
            "Epoch [41/3000]: Train loss: 376.7716, Valid loss: 378.5637\n"
          ]
        },
        {
          "output_type": "stream",
          "name": "stderr",
          "text": [
            "Epoch[42/3000]: 100%|██████████| 10/10 [00:00<00:00, 132.09it/s, loss=294]\n"
          ]
        },
        {
          "output_type": "stream",
          "name": "stdout",
          "text": [
            "Epoch [42/3000]: Train loss: 371.0785, Valid loss: 368.3043\n"
          ]
        },
        {
          "output_type": "stream",
          "name": "stderr",
          "text": [
            "Epoch[43/3000]: 100%|██████████| 10/10 [00:00<00:00, 133.70it/s, loss=383]\n"
          ]
        },
        {
          "output_type": "stream",
          "name": "stdout",
          "text": [
            "Epoch [43/3000]: Train loss: 375.2870, Valid loss: 376.5818\n"
          ]
        },
        {
          "output_type": "stream",
          "name": "stderr",
          "text": [
            "Epoch[44/3000]: 100%|██████████| 10/10 [00:00<00:00, 116.38it/s, loss=364]\n"
          ]
        },
        {
          "output_type": "stream",
          "name": "stdout",
          "text": [
            "Epoch [44/3000]: Train loss: 373.1738, Valid loss: 376.5937\n"
          ]
        },
        {
          "output_type": "stream",
          "name": "stderr",
          "text": [
            "Epoch[45/3000]: 100%|██████████| 10/10 [00:00<00:00, 128.39it/s, loss=372]\n"
          ]
        },
        {
          "output_type": "stream",
          "name": "stdout",
          "text": [
            "Epoch [45/3000]: Train loss: 372.5950, Valid loss: 374.6368\n"
          ]
        },
        {
          "output_type": "stream",
          "name": "stderr",
          "text": [
            "Epoch[46/3000]: 100%|██████████| 10/10 [00:00<00:00, 111.27it/s, loss=381]\n"
          ]
        },
        {
          "output_type": "stream",
          "name": "stdout",
          "text": [
            "Epoch [46/3000]: Train loss: 372.0880, Valid loss: 369.0467\n"
          ]
        },
        {
          "output_type": "stream",
          "name": "stderr",
          "text": [
            "Epoch[47/3000]: 100%|██████████| 10/10 [00:00<00:00, 110.20it/s, loss=382]\n"
          ]
        },
        {
          "output_type": "stream",
          "name": "stdout",
          "text": [
            "Epoch [47/3000]: Train loss: 371.1075, Valid loss: 373.7582\n"
          ]
        },
        {
          "output_type": "stream",
          "name": "stderr",
          "text": [
            "Epoch[48/3000]: 100%|██████████| 10/10 [00:00<00:00, 119.55it/s, loss=374]\n"
          ]
        },
        {
          "output_type": "stream",
          "name": "stdout",
          "text": [
            "Epoch [48/3000]: Train loss: 369.6123, Valid loss: 371.3420\n"
          ]
        },
        {
          "output_type": "stream",
          "name": "stderr",
          "text": [
            "Epoch[49/3000]: 100%|██████████| 10/10 [00:00<00:00, 127.01it/s, loss=336]\n"
          ]
        },
        {
          "output_type": "stream",
          "name": "stdout",
          "text": [
            "Epoch [49/3000]: Train loss: 366.3499, Valid loss: 363.3227\n"
          ]
        },
        {
          "output_type": "stream",
          "name": "stderr",
          "text": [
            "Epoch[50/3000]: 100%|██████████| 10/10 [00:00<00:00, 114.19it/s, loss=423]\n"
          ]
        },
        {
          "output_type": "stream",
          "name": "stdout",
          "text": [
            "Epoch [50/3000]: Train loss: 370.4682, Valid loss: 370.3500\n"
          ]
        },
        {
          "output_type": "stream",
          "name": "stderr",
          "text": [
            "Epoch[51/3000]: 100%|██████████| 10/10 [00:00<00:00, 127.38it/s, loss=362]\n"
          ]
        },
        {
          "output_type": "stream",
          "name": "stdout",
          "text": [
            "Epoch [51/3000]: Train loss: 365.8481, Valid loss: 364.0086\n"
          ]
        },
        {
          "output_type": "stream",
          "name": "stderr",
          "text": [
            "Epoch[52/3000]: 100%|██████████| 10/10 [00:00<00:00, 113.55it/s, loss=340]\n"
          ]
        },
        {
          "output_type": "stream",
          "name": "stdout",
          "text": [
            "Epoch [52/3000]: Train loss: 363.5719, Valid loss: 362.4811\n"
          ]
        },
        {
          "output_type": "stream",
          "name": "stderr",
          "text": [
            "Epoch[53/3000]: 100%|██████████| 10/10 [00:00<00:00, 118.85it/s, loss=290]\n"
          ]
        },
        {
          "output_type": "stream",
          "name": "stdout",
          "text": [
            "Epoch [53/3000]: Train loss: 359.5674, Valid loss: 364.0838\n"
          ]
        },
        {
          "output_type": "stream",
          "name": "stderr",
          "text": [
            "Epoch[54/3000]: 100%|██████████| 10/10 [00:00<00:00, 115.40it/s, loss=313]\n"
          ]
        },
        {
          "output_type": "stream",
          "name": "stdout",
          "text": [
            "Epoch [54/3000]: Train loss: 359.9693, Valid loss: 362.2745\n"
          ]
        },
        {
          "output_type": "stream",
          "name": "stderr",
          "text": [
            "Epoch[55/3000]: 100%|██████████| 10/10 [00:00<00:00, 126.17it/s, loss=299]\n"
          ]
        },
        {
          "output_type": "stream",
          "name": "stdout",
          "text": [
            "Epoch [55/3000]: Train loss: 358.0987, Valid loss: 357.6505\n"
          ]
        },
        {
          "output_type": "stream",
          "name": "stderr",
          "text": [
            "Epoch[56/3000]: 100%|██████████| 10/10 [00:00<00:00, 124.47it/s, loss=402]\n"
          ]
        },
        {
          "output_type": "stream",
          "name": "stdout",
          "text": [
            "Epoch [56/3000]: Train loss: 363.2498, Valid loss: 361.2835\n"
          ]
        },
        {
          "output_type": "stream",
          "name": "stderr",
          "text": [
            "Epoch[57/3000]: 100%|██████████| 10/10 [00:00<00:00, 112.44it/s, loss=316]\n"
          ]
        },
        {
          "output_type": "stream",
          "name": "stdout",
          "text": [
            "Epoch [57/3000]: Train loss: 357.1798, Valid loss: 359.7745\n"
          ]
        },
        {
          "output_type": "stream",
          "name": "stderr",
          "text": [
            "Epoch[58/3000]: 100%|██████████| 10/10 [00:00<00:00, 117.26it/s, loss=320]\n"
          ]
        },
        {
          "output_type": "stream",
          "name": "stdout",
          "text": [
            "Epoch [58/3000]: Train loss: 356.4033, Valid loss: 353.7556\n"
          ]
        },
        {
          "output_type": "stream",
          "name": "stderr",
          "text": [
            "Epoch[59/3000]: 100%|██████████| 10/10 [00:00<00:00, 133.54it/s, loss=338]\n"
          ]
        },
        {
          "output_type": "stream",
          "name": "stdout",
          "text": [
            "Epoch [59/3000]: Train loss: 356.4931, Valid loss: 355.2699\n"
          ]
        },
        {
          "output_type": "stream",
          "name": "stderr",
          "text": [
            "Epoch[60/3000]: 100%|██████████| 10/10 [00:00<00:00, 125.12it/s, loss=397]\n"
          ]
        },
        {
          "output_type": "stream",
          "name": "stdout",
          "text": [
            "Epoch [60/3000]: Train loss: 359.0397, Valid loss: 358.3798\n"
          ]
        },
        {
          "output_type": "stream",
          "name": "stderr",
          "text": [
            "Epoch[61/3000]: 100%|██████████| 10/10 [00:00<00:00, 122.76it/s, loss=382]\n"
          ]
        },
        {
          "output_type": "stream",
          "name": "stdout",
          "text": [
            "Epoch [61/3000]: Train loss: 357.1931, Valid loss: 355.9585\n"
          ]
        },
        {
          "output_type": "stream",
          "name": "stderr",
          "text": [
            "Epoch[62/3000]: 100%|██████████| 10/10 [00:00<00:00, 130.14it/s, loss=360]\n"
          ]
        },
        {
          "output_type": "stream",
          "name": "stdout",
          "text": [
            "Epoch [62/3000]: Train loss: 354.8669, Valid loss: 353.2121\n"
          ]
        },
        {
          "output_type": "stream",
          "name": "stderr",
          "text": [
            "Epoch[63/3000]: 100%|██████████| 10/10 [00:00<00:00, 133.45it/s, loss=351]\n"
          ]
        },
        {
          "output_type": "stream",
          "name": "stdout",
          "text": [
            "Epoch [63/3000]: Train loss: 353.3740, Valid loss: 352.4240\n"
          ]
        },
        {
          "output_type": "stream",
          "name": "stderr",
          "text": [
            "Epoch[64/3000]: 100%|██████████| 10/10 [00:00<00:00, 127.01it/s, loss=300]\n"
          ]
        },
        {
          "output_type": "stream",
          "name": "stdout",
          "text": [
            "Epoch [64/3000]: Train loss: 349.4177, Valid loss: 346.6607\n"
          ]
        },
        {
          "output_type": "stream",
          "name": "stderr",
          "text": [
            "Epoch[65/3000]: 100%|██████████| 10/10 [00:00<00:00, 122.57it/s, loss=312]\n"
          ]
        },
        {
          "output_type": "stream",
          "name": "stdout",
          "text": [
            "Epoch [65/3000]: Train loss: 349.1921, Valid loss: 347.5627\n"
          ]
        },
        {
          "output_type": "stream",
          "name": "stderr",
          "text": [
            "Epoch[66/3000]: 100%|██████████| 10/10 [00:00<00:00, 133.67it/s, loss=305]\n"
          ]
        },
        {
          "output_type": "stream",
          "name": "stdout",
          "text": [
            "Epoch [66/3000]: Train loss: 347.7980, Valid loss: 347.7388\n"
          ]
        },
        {
          "output_type": "stream",
          "name": "stderr",
          "text": [
            "Epoch[67/3000]: 100%|██████████| 10/10 [00:00<00:00, 123.72it/s, loss=340]\n"
          ]
        },
        {
          "output_type": "stream",
          "name": "stdout",
          "text": [
            "Epoch [67/3000]: Train loss: 348.9288, Valid loss: 349.6350\n"
          ]
        },
        {
          "output_type": "stream",
          "name": "stderr",
          "text": [
            "Epoch[68/3000]: 100%|██████████| 10/10 [00:00<00:00, 116.41it/s, loss=394]\n"
          ]
        },
        {
          "output_type": "stream",
          "name": "stdout",
          "text": [
            "Epoch [68/3000]: Train loss: 351.2071, Valid loss: 351.5043\n"
          ]
        },
        {
          "output_type": "stream",
          "name": "stderr",
          "text": [
            "Epoch[69/3000]: 100%|██████████| 10/10 [00:00<00:00, 123.44it/s, loss=350]\n"
          ]
        },
        {
          "output_type": "stream",
          "name": "stdout",
          "text": [
            "Epoch [69/3000]: Train loss: 347.6521, Valid loss: 346.0814\n"
          ]
        },
        {
          "output_type": "stream",
          "name": "stderr",
          "text": [
            "Epoch[70/3000]: 100%|██████████| 10/10 [00:00<00:00, 129.28it/s, loss=359]\n"
          ]
        },
        {
          "output_type": "stream",
          "name": "stdout",
          "text": [
            "Epoch [70/3000]: Train loss: 347.2406, Valid loss: 347.3916\n"
          ]
        },
        {
          "output_type": "stream",
          "name": "stderr",
          "text": [
            "Epoch[71/3000]: 100%|██████████| 10/10 [00:00<00:00, 118.21it/s, loss=248]\n"
          ]
        },
        {
          "output_type": "stream",
          "name": "stdout",
          "text": [
            "Epoch [71/3000]: Train loss: 339.7327, Valid loss: 339.8544\n"
          ]
        },
        {
          "output_type": "stream",
          "name": "stderr",
          "text": [
            "Epoch[72/3000]: 100%|██████████| 10/10 [00:00<00:00, 115.72it/s, loss=365]\n"
          ]
        },
        {
          "output_type": "stream",
          "name": "stdout",
          "text": [
            "Epoch [72/3000]: Train loss: 345.7573, Valid loss: 345.8726\n"
          ]
        },
        {
          "output_type": "stream",
          "name": "stderr",
          "text": [
            "Epoch[73/3000]: 100%|██████████| 10/10 [00:00<00:00, 126.69it/s, loss=366]\n"
          ]
        },
        {
          "output_type": "stream",
          "name": "stdout",
          "text": [
            "Epoch [73/3000]: Train loss: 344.9051, Valid loss: 343.4454\n"
          ]
        },
        {
          "output_type": "stream",
          "name": "stderr",
          "text": [
            "Epoch[74/3000]: 100%|██████████| 10/10 [00:00<00:00, 110.65it/s, loss=348]\n"
          ]
        },
        {
          "output_type": "stream",
          "name": "stdout",
          "text": [
            "Epoch [74/3000]: Train loss: 342.8807, Valid loss: 340.7436\n"
          ]
        },
        {
          "output_type": "stream",
          "name": "stderr",
          "text": [
            "Epoch[75/3000]: 100%|██████████| 10/10 [00:00<00:00, 126.75it/s, loss=392]\n"
          ]
        },
        {
          "output_type": "stream",
          "name": "stdout",
          "text": [
            "Epoch [75/3000]: Train loss: 344.5893, Valid loss: 342.5475\n"
          ]
        },
        {
          "output_type": "stream",
          "name": "stderr",
          "text": [
            "Epoch[76/3000]: 100%|██████████| 10/10 [00:00<00:00, 126.00it/s, loss=331]\n"
          ]
        },
        {
          "output_type": "stream",
          "name": "stdout",
          "text": [
            "Epoch [76/3000]: Train loss: 340.0312, Valid loss: 337.4209\n"
          ]
        },
        {
          "output_type": "stream",
          "name": "stderr",
          "text": [
            "Epoch[77/3000]: 100%|██████████| 10/10 [00:00<00:00, 108.23it/s, loss=373]\n"
          ]
        },
        {
          "output_type": "stream",
          "name": "stdout",
          "text": [
            "Epoch [77/3000]: Train loss: 341.6492, Valid loss: 339.4074\n"
          ]
        },
        {
          "output_type": "stream",
          "name": "stderr",
          "text": [
            "Epoch[78/3000]: 100%|██████████| 10/10 [00:00<00:00, 108.22it/s, loss=272]\n"
          ]
        },
        {
          "output_type": "stream",
          "name": "stdout",
          "text": [
            "Epoch [78/3000]: Train loss: 334.7243, Valid loss: 333.8064\n"
          ]
        },
        {
          "output_type": "stream",
          "name": "stderr",
          "text": [
            "Epoch[79/3000]: 100%|██████████| 10/10 [00:00<00:00, 115.70it/s, loss=333]\n"
          ]
        },
        {
          "output_type": "stream",
          "name": "stdout",
          "text": [
            "Epoch [79/3000]: Train loss: 337.4644, Valid loss: 337.5382\n"
          ]
        },
        {
          "output_type": "stream",
          "name": "stderr",
          "text": [
            "Epoch[80/3000]: 100%|██████████| 10/10 [00:00<00:00, 128.63it/s, loss=360]\n"
          ]
        },
        {
          "output_type": "stream",
          "name": "stdout",
          "text": [
            "Epoch [80/3000]: Train loss: 338.1653, Valid loss: 338.9020\n"
          ]
        },
        {
          "output_type": "stream",
          "name": "stderr",
          "text": [
            "Epoch[81/3000]: 100%|██████████| 10/10 [00:00<00:00, 126.87it/s, loss=359]\n"
          ]
        },
        {
          "output_type": "stream",
          "name": "stdout",
          "text": [
            "Epoch [81/3000]: Train loss: 337.1835, Valid loss: 337.6391\n"
          ]
        },
        {
          "output_type": "stream",
          "name": "stderr",
          "text": [
            "Epoch[82/3000]: 100%|██████████| 10/10 [00:00<00:00, 121.32it/s, loss=369]\n"
          ]
        },
        {
          "output_type": "stream",
          "name": "stdout",
          "text": [
            "Epoch [82/3000]: Train loss: 336.9138, Valid loss: 337.4297\n"
          ]
        },
        {
          "output_type": "stream",
          "name": "stderr",
          "text": [
            "Epoch[83/3000]: 100%|██████████| 10/10 [00:00<00:00, 123.14it/s, loss=341]\n"
          ]
        },
        {
          "output_type": "stream",
          "name": "stdout",
          "text": [
            "Epoch [83/3000]: Train loss: 334.3594, Valid loss: 332.4243\n"
          ]
        },
        {
          "output_type": "stream",
          "name": "stderr",
          "text": [
            "Epoch[84/3000]: 100%|██████████| 10/10 [00:00<00:00, 119.09it/s, loss=396]\n"
          ]
        },
        {
          "output_type": "stream",
          "name": "stdout",
          "text": [
            "Epoch [84/3000]: Train loss: 336.6912, Valid loss: 335.7764\n"
          ]
        },
        {
          "output_type": "stream",
          "name": "stderr",
          "text": [
            "Epoch[85/3000]: 100%|██████████| 10/10 [00:00<00:00, 119.78it/s, loss=346]\n"
          ]
        },
        {
          "output_type": "stream",
          "name": "stdout",
          "text": [
            "Epoch [85/3000]: Train loss: 332.8373, Valid loss: 330.8983\n"
          ]
        },
        {
          "output_type": "stream",
          "name": "stderr",
          "text": [
            "Epoch[86/3000]: 100%|██████████| 10/10 [00:00<00:00, 132.10it/s, loss=308]\n"
          ]
        },
        {
          "output_type": "stream",
          "name": "stdout",
          "text": [
            "Epoch [86/3000]: Train loss: 329.7346, Valid loss: 328.0543\n"
          ]
        },
        {
          "output_type": "stream",
          "name": "stderr",
          "text": [
            "Epoch[87/3000]: 100%|██████████| 10/10 [00:00<00:00, 114.97it/s, loss=253]\n"
          ]
        },
        {
          "output_type": "stream",
          "name": "stdout",
          "text": [
            "Epoch [87/3000]: Train loss: 325.5581, Valid loss: 325.9681\n"
          ]
        },
        {
          "output_type": "stream",
          "name": "stderr",
          "text": [
            "Epoch[88/3000]: 100%|██████████| 10/10 [00:00<00:00, 119.77it/s, loss=330]\n"
          ]
        },
        {
          "output_type": "stream",
          "name": "stdout",
          "text": [
            "Epoch [88/3000]: Train loss: 329.2961, Valid loss: 329.4976\n"
          ]
        },
        {
          "output_type": "stream",
          "name": "stderr",
          "text": [
            "Epoch[89/3000]: 100%|██████████| 10/10 [00:00<00:00, 118.73it/s, loss=395]\n"
          ]
        },
        {
          "output_type": "stream",
          "name": "stdout",
          "text": [
            "Epoch [89/3000]: Train loss: 332.2610, Valid loss: 328.8852\n"
          ]
        },
        {
          "output_type": "stream",
          "name": "stderr",
          "text": [
            "Epoch[90/3000]: 100%|██████████| 10/10 [00:00<00:00, 108.97it/s, loss=313]\n"
          ]
        },
        {
          "output_type": "stream",
          "name": "stdout",
          "text": [
            "Epoch [90/3000]: Train loss: 326.5470, Valid loss: 324.2368\n"
          ]
        },
        {
          "output_type": "stream",
          "name": "stderr",
          "text": [
            "Epoch[91/3000]: 100%|██████████| 10/10 [00:00<00:00, 125.46it/s, loss=271]\n"
          ]
        },
        {
          "output_type": "stream",
          "name": "stdout",
          "text": [
            "Epoch [91/3000]: Train loss: 323.1787, Valid loss: 326.6517\n"
          ]
        },
        {
          "output_type": "stream",
          "name": "stderr",
          "text": [
            "Epoch[92/3000]: 100%|██████████| 10/10 [00:00<00:00, 122.50it/s, loss=292]\n"
          ]
        },
        {
          "output_type": "stream",
          "name": "stdout",
          "text": [
            "Epoch [92/3000]: Train loss: 323.5938, Valid loss: 324.2725\n"
          ]
        },
        {
          "output_type": "stream",
          "name": "stderr",
          "text": [
            "Epoch[93/3000]: 100%|██████████| 10/10 [00:00<00:00, 119.00it/s, loss=370]\n"
          ]
        },
        {
          "output_type": "stream",
          "name": "stdout",
          "text": [
            "Epoch [93/3000]: Train loss: 327.3916, Valid loss: 325.4850\n"
          ]
        },
        {
          "output_type": "stream",
          "name": "stderr",
          "text": [
            "Epoch[94/3000]: 100%|██████████| 10/10 [00:00<00:00, 111.18it/s, loss=255]\n"
          ]
        },
        {
          "output_type": "stream",
          "name": "stdout",
          "text": [
            "Epoch [94/3000]: Train loss: 319.6734, Valid loss: 321.3172\n"
          ]
        },
        {
          "output_type": "stream",
          "name": "stderr",
          "text": [
            "Epoch[95/3000]: 100%|██████████| 10/10 [00:00<00:00, 112.81it/s, loss=376]\n"
          ]
        },
        {
          "output_type": "stream",
          "name": "stdout",
          "text": [
            "Epoch [95/3000]: Train loss: 326.0403, Valid loss: 326.5655\n"
          ]
        },
        {
          "output_type": "stream",
          "name": "stderr",
          "text": [
            "Epoch[96/3000]: 100%|██████████| 10/10 [00:00<00:00, 128.02it/s, loss=287]\n"
          ]
        },
        {
          "output_type": "stream",
          "name": "stdout",
          "text": [
            "Epoch [96/3000]: Train loss: 319.8950, Valid loss: 320.4261\n"
          ]
        },
        {
          "output_type": "stream",
          "name": "stderr",
          "text": [
            "Epoch[97/3000]: 100%|██████████| 10/10 [00:00<00:00, 107.59it/s, loss=366]"
          ]
        },
        {
          "output_type": "stream",
          "name": "stdout",
          "text": [
            "Epoch [97/3000]: Train loss: 323.7440, Valid loss: 319.6965"
          ]
        },
        {
          "output_type": "stream",
          "name": "stderr",
          "text": [
            "\n"
          ]
        },
        {
          "output_type": "stream",
          "name": "stdout",
          "text": [
            "\n"
          ]
        },
        {
          "output_type": "stream",
          "name": "stderr",
          "text": [
            "Epoch[98/3000]: 100%|██████████| 10/10 [00:00<00:00, 120.91it/s, loss=286]\n"
          ]
        },
        {
          "output_type": "stream",
          "name": "stdout",
          "text": [
            "Epoch [98/3000]: Train loss: 318.1476, Valid loss: 318.2906\n"
          ]
        },
        {
          "output_type": "stream",
          "name": "stderr",
          "text": [
            "Epoch[99/3000]: 100%|██████████| 10/10 [00:00<00:00, 112.93it/s, loss=349]\n"
          ]
        },
        {
          "output_type": "stream",
          "name": "stdout",
          "text": [
            "Epoch [99/3000]: Train loss: 321.0829, Valid loss: 319.4523\n"
          ]
        },
        {
          "output_type": "stream",
          "name": "stderr",
          "text": [
            "Epoch[100/3000]: 100%|██████████| 10/10 [00:00<00:00, 118.04it/s, loss=289]\n"
          ]
        },
        {
          "output_type": "stream",
          "name": "stdout",
          "text": [
            "Epoch [100/3000]: Train loss: 316.7069, Valid loss: 318.6559\n"
          ]
        },
        {
          "output_type": "stream",
          "name": "stderr",
          "text": [
            "Epoch[101/3000]: 100%|██████████| 10/10 [00:00<00:00, 116.75it/s, loss=377]\n"
          ]
        },
        {
          "output_type": "stream",
          "name": "stdout",
          "text": [
            "Epoch [101/3000]: Train loss: 321.0951, Valid loss: 321.6921\n"
          ]
        },
        {
          "output_type": "stream",
          "name": "stderr",
          "text": [
            "Epoch[102/3000]: 100%|██████████| 10/10 [00:00<00:00, 132.33it/s, loss=312]\n"
          ]
        },
        {
          "output_type": "stream",
          "name": "stdout",
          "text": [
            "Epoch [102/3000]: Train loss: 316.4051, Valid loss: 315.2446\n"
          ]
        },
        {
          "output_type": "stream",
          "name": "stderr",
          "text": [
            "Epoch[103/3000]: 100%|██████████| 10/10 [00:00<00:00, 141.25it/s, loss=318]\n"
          ]
        },
        {
          "output_type": "stream",
          "name": "stdout",
          "text": [
            "Epoch [103/3000]: Train loss: 315.9395, Valid loss: 315.8174\n"
          ]
        },
        {
          "output_type": "stream",
          "name": "stderr",
          "text": [
            "Epoch[104/3000]: 100%|██████████| 10/10 [00:00<00:00, 115.72it/s, loss=357]\n"
          ]
        },
        {
          "output_type": "stream",
          "name": "stdout",
          "text": [
            "Epoch [104/3000]: Train loss: 317.4024, Valid loss: 318.5944\n"
          ]
        },
        {
          "output_type": "stream",
          "name": "stderr",
          "text": [
            "Epoch[105/3000]: 100%|██████████| 10/10 [00:00<00:00, 102.97it/s, loss=281]\n"
          ]
        },
        {
          "output_type": "stream",
          "name": "stdout",
          "text": [
            "Epoch [105/3000]: Train loss: 312.0768, Valid loss: 315.2896\n"
          ]
        },
        {
          "output_type": "stream",
          "name": "stderr",
          "text": [
            "Epoch[106/3000]: 100%|██████████| 10/10 [00:00<00:00, 112.21it/s, loss=285]\n"
          ]
        },
        {
          "output_type": "stream",
          "name": "stdout",
          "text": [
            "Epoch [106/3000]: Train loss: 311.5140, Valid loss: 313.9906\n"
          ]
        },
        {
          "output_type": "stream",
          "name": "stderr",
          "text": [
            "Epoch[107/3000]: 100%|██████████| 10/10 [00:00<00:00, 108.81it/s, loss=328]\n"
          ]
        },
        {
          "output_type": "stream",
          "name": "stdout",
          "text": [
            "Epoch [107/3000]: Train loss: 313.2978, Valid loss: 311.4258\n"
          ]
        },
        {
          "output_type": "stream",
          "name": "stderr",
          "text": [
            "Epoch[108/3000]: 100%|██████████| 10/10 [00:00<00:00, 105.17it/s, loss=285]\n"
          ]
        },
        {
          "output_type": "stream",
          "name": "stdout",
          "text": [
            "Epoch [108/3000]: Train loss: 309.8943, Valid loss: 312.0323\n"
          ]
        },
        {
          "output_type": "stream",
          "name": "stderr",
          "text": [
            "Epoch[109/3000]: 100%|██████████| 10/10 [00:00<00:00, 95.10it/s, loss=227]\n"
          ]
        },
        {
          "output_type": "stream",
          "name": "stdout",
          "text": [
            "Epoch [109/3000]: Train loss: 305.6525, Valid loss: 304.7288\n"
          ]
        },
        {
          "output_type": "stream",
          "name": "stderr",
          "text": [
            "Epoch[110/3000]: 100%|██████████| 10/10 [00:00<00:00, 107.83it/s, loss=294]\n"
          ]
        },
        {
          "output_type": "stream",
          "name": "stdout",
          "text": [
            "Epoch [110/3000]: Train loss: 308.8554, Valid loss: 309.3282\n"
          ]
        },
        {
          "output_type": "stream",
          "name": "stderr",
          "text": [
            "Epoch[111/3000]: 100%|██████████| 10/10 [00:00<00:00, 116.54it/s, loss=345]\n"
          ]
        },
        {
          "output_type": "stream",
          "name": "stdout",
          "text": [
            "Epoch [111/3000]: Train loss: 311.0909, Valid loss: 311.5907\n"
          ]
        },
        {
          "output_type": "stream",
          "name": "stderr",
          "text": [
            "Epoch[112/3000]: 100%|██████████| 10/10 [00:00<00:00, 120.38it/s, loss=336]\n"
          ]
        },
        {
          "output_type": "stream",
          "name": "stdout",
          "text": [
            "Epoch [112/3000]: Train loss: 309.7766, Valid loss: 308.2184\n"
          ]
        },
        {
          "output_type": "stream",
          "name": "stderr",
          "text": [
            "Epoch[113/3000]: 100%|██████████| 10/10 [00:00<00:00, 126.07it/s, loss=316]\n"
          ]
        },
        {
          "output_type": "stream",
          "name": "stdout",
          "text": [
            "Epoch [113/3000]: Train loss: 307.7948, Valid loss: 307.7226\n"
          ]
        },
        {
          "output_type": "stream",
          "name": "stderr",
          "text": [
            "Epoch[114/3000]: 100%|██████████| 10/10 [00:00<00:00, 103.58it/s, loss=309]\n"
          ]
        },
        {
          "output_type": "stream",
          "name": "stdout",
          "text": [
            "Epoch [114/3000]: Train loss: 306.5885, Valid loss: 304.3800\n"
          ]
        },
        {
          "output_type": "stream",
          "name": "stderr",
          "text": [
            "Epoch[115/3000]: 100%|██████████| 10/10 [00:00<00:00, 127.33it/s, loss=346]\n"
          ]
        },
        {
          "output_type": "stream",
          "name": "stdout",
          "text": [
            "Epoch [115/3000]: Train loss: 308.0100, Valid loss: 308.2875\n"
          ]
        },
        {
          "output_type": "stream",
          "name": "stderr",
          "text": [
            "Epoch[116/3000]: 100%|██████████| 10/10 [00:00<00:00, 124.48it/s, loss=314]\n"
          ]
        },
        {
          "output_type": "stream",
          "name": "stdout",
          "text": [
            "Epoch [116/3000]: Train loss: 305.3056, Valid loss: 305.8166\n"
          ]
        },
        {
          "output_type": "stream",
          "name": "stderr",
          "text": [
            "Epoch[117/3000]: 100%|██████████| 10/10 [00:00<00:00, 127.20it/s, loss=288]\n"
          ]
        },
        {
          "output_type": "stream",
          "name": "stdout",
          "text": [
            "Epoch [117/3000]: Train loss: 303.0190, Valid loss: 303.2182\n"
          ]
        },
        {
          "output_type": "stream",
          "name": "stderr",
          "text": [
            "Epoch[118/3000]: 100%|██████████| 10/10 [00:00<00:00, 108.70it/s, loss=293]\n"
          ]
        },
        {
          "output_type": "stream",
          "name": "stdout",
          "text": [
            "Epoch [118/3000]: Train loss: 302.5516, Valid loss: 299.4642\n"
          ]
        },
        {
          "output_type": "stream",
          "name": "stderr",
          "text": [
            "Epoch[119/3000]: 100%|██████████| 10/10 [00:00<00:00, 113.16it/s, loss=282]\n"
          ]
        },
        {
          "output_type": "stream",
          "name": "stdout",
          "text": [
            "Epoch [119/3000]: Train loss: 301.1237, Valid loss: 298.1258\n"
          ]
        },
        {
          "output_type": "stream",
          "name": "stderr",
          "text": [
            "Epoch[120/3000]: 100%|██████████| 10/10 [00:00<00:00, 103.99it/s, loss=332]\n"
          ]
        },
        {
          "output_type": "stream",
          "name": "stdout",
          "text": [
            "Epoch [120/3000]: Train loss: 303.3313, Valid loss: 301.6574\n"
          ]
        },
        {
          "output_type": "stream",
          "name": "stderr",
          "text": [
            "Epoch[121/3000]: 100%|██████████| 10/10 [00:00<00:00, 119.70it/s, loss=343]\n"
          ]
        },
        {
          "output_type": "stream",
          "name": "stdout",
          "text": [
            "Epoch [121/3000]: Train loss: 303.1840, Valid loss: 303.1547\n"
          ]
        },
        {
          "output_type": "stream",
          "name": "stderr",
          "text": [
            "Epoch[122/3000]: 100%|██████████| 10/10 [00:00<00:00, 125.58it/s, loss=309]"
          ]
        },
        {
          "output_type": "stream",
          "name": "stdout",
          "text": [
            "Epoch [122/3000]: Train loss: 300.4469, Valid loss: 296.1529"
          ]
        },
        {
          "output_type": "stream",
          "name": "stderr",
          "text": [
            "\n"
          ]
        },
        {
          "output_type": "stream",
          "name": "stdout",
          "text": [
            "\n"
          ]
        },
        {
          "output_type": "stream",
          "name": "stderr",
          "text": [
            "Epoch[123/3000]: 100%|██████████| 10/10 [00:00<00:00, 117.27it/s, loss=332]"
          ]
        },
        {
          "output_type": "stream",
          "name": "stdout",
          "text": [
            "Epoch [123/3000]: Train loss: 301.0014, Valid loss: 302.5833"
          ]
        },
        {
          "output_type": "stream",
          "name": "stderr",
          "text": [
            "\n"
          ]
        },
        {
          "output_type": "stream",
          "name": "stdout",
          "text": [
            "\n"
          ]
        },
        {
          "output_type": "stream",
          "name": "stderr",
          "text": [
            "Epoch[124/3000]: 100%|██████████| 10/10 [00:00<00:00, 120.02it/s, loss=334]\n"
          ]
        },
        {
          "output_type": "stream",
          "name": "stdout",
          "text": [
            "Epoch [124/3000]: Train loss: 300.3725, Valid loss: 298.2176\n"
          ]
        },
        {
          "output_type": "stream",
          "name": "stderr",
          "text": [
            "Epoch[125/3000]: 100%|██████████| 10/10 [00:00<00:00, 125.64it/s, loss=319]\n"
          ]
        },
        {
          "output_type": "stream",
          "name": "stdout",
          "text": [
            "Epoch [125/3000]: Train loss: 298.7336, Valid loss: 300.6241\n"
          ]
        },
        {
          "output_type": "stream",
          "name": "stderr",
          "text": [
            "Epoch[126/3000]: 100%|██████████| 10/10 [00:00<00:00, 115.25it/s, loss=280]\n"
          ]
        },
        {
          "output_type": "stream",
          "name": "stdout",
          "text": [
            "Epoch [126/3000]: Train loss: 295.7038, Valid loss: 297.2417\n"
          ]
        },
        {
          "output_type": "stream",
          "name": "stderr",
          "text": [
            "Epoch[127/3000]: 100%|██████████| 10/10 [00:00<00:00, 94.32it/s, loss=341]\n"
          ]
        },
        {
          "output_type": "stream",
          "name": "stdout",
          "text": [
            "Epoch [127/3000]: Train loss: 298.5330, Valid loss: 298.2028\n"
          ]
        },
        {
          "output_type": "stream",
          "name": "stderr",
          "text": [
            "Epoch[128/3000]: 100%|██████████| 10/10 [00:00<00:00, 103.94it/s, loss=275]\n"
          ]
        },
        {
          "output_type": "stream",
          "name": "stdout",
          "text": [
            "Epoch [128/3000]: Train loss: 293.8702, Valid loss: 291.8495\n"
          ]
        },
        {
          "output_type": "stream",
          "name": "stderr",
          "text": [
            "Epoch[129/3000]: 100%|██████████| 10/10 [00:00<00:00, 111.37it/s, loss=237]\n"
          ]
        },
        {
          "output_type": "stream",
          "name": "stdout",
          "text": [
            "Epoch [129/3000]: Train loss: 290.8822, Valid loss: 289.9317\n"
          ]
        },
        {
          "output_type": "stream",
          "name": "stderr",
          "text": [
            "Epoch[130/3000]: 100%|██████████| 10/10 [00:00<00:00, 128.75it/s, loss=273]\n"
          ]
        },
        {
          "output_type": "stream",
          "name": "stdout",
          "text": [
            "Epoch [130/3000]: Train loss: 292.3285, Valid loss: 290.2860\n"
          ]
        },
        {
          "output_type": "stream",
          "name": "stderr",
          "text": [
            "Epoch[131/3000]: 100%|██████████| 10/10 [00:00<00:00, 119.27it/s, loss=290]\n"
          ]
        },
        {
          "output_type": "stream",
          "name": "stdout",
          "text": [
            "Epoch [131/3000]: Train loss: 292.5983, Valid loss: 290.9737\n"
          ]
        },
        {
          "output_type": "stream",
          "name": "stderr",
          "text": [
            "Epoch[132/3000]: 100%|██████████| 10/10 [00:00<00:00, 116.75it/s, loss=288]\n"
          ]
        },
        {
          "output_type": "stream",
          "name": "stdout",
          "text": [
            "Epoch [132/3000]: Train loss: 291.7576, Valid loss: 292.8784\n"
          ]
        },
        {
          "output_type": "stream",
          "name": "stderr",
          "text": [
            "Epoch[133/3000]: 100%|██████████| 10/10 [00:00<00:00, 109.59it/s, loss=305]\n"
          ]
        },
        {
          "output_type": "stream",
          "name": "stdout",
          "text": [
            "Epoch [133/3000]: Train loss: 292.0072, Valid loss: 292.0654\n"
          ]
        },
        {
          "output_type": "stream",
          "name": "stderr",
          "text": [
            "Epoch[134/3000]: 100%|██████████| 10/10 [00:00<00:00, 128.10it/s, loss=308]\n"
          ]
        },
        {
          "output_type": "stream",
          "name": "stdout",
          "text": [
            "Epoch [134/3000]: Train loss: 291.4720, Valid loss: 288.8840\n"
          ]
        },
        {
          "output_type": "stream",
          "name": "stderr",
          "text": [
            "Epoch[135/3000]: 100%|██████████| 10/10 [00:00<00:00, 125.77it/s, loss=271]\n"
          ]
        },
        {
          "output_type": "stream",
          "name": "stdout",
          "text": [
            "Epoch [135/3000]: Train loss: 288.5405, Valid loss: 288.5291\n"
          ]
        },
        {
          "output_type": "stream",
          "name": "stderr",
          "text": [
            "Epoch[136/3000]: 100%|██████████| 10/10 [00:00<00:00, 123.72it/s, loss=285]\n"
          ]
        },
        {
          "output_type": "stream",
          "name": "stdout",
          "text": [
            "Epoch [136/3000]: Train loss: 288.6605, Valid loss: 288.0400\n"
          ]
        },
        {
          "output_type": "stream",
          "name": "stderr",
          "text": [
            "Epoch[137/3000]: 100%|██████████| 10/10 [00:00<00:00, 114.48it/s, loss=272]\n"
          ]
        },
        {
          "output_type": "stream",
          "name": "stdout",
          "text": [
            "Epoch [137/3000]: Train loss: 287.1965, Valid loss: 287.5210\n"
          ]
        },
        {
          "output_type": "stream",
          "name": "stderr",
          "text": [
            "Epoch[138/3000]: 100%|██████████| 10/10 [00:00<00:00, 124.04it/s, loss=275]\n"
          ]
        },
        {
          "output_type": "stream",
          "name": "stdout",
          "text": [
            "Epoch [138/3000]: Train loss: 286.6474, Valid loss: 284.3417\n"
          ]
        },
        {
          "output_type": "stream",
          "name": "stderr",
          "text": [
            "Epoch[139/3000]: 100%|██████████| 10/10 [00:00<00:00, 120.08it/s, loss=344]\n"
          ]
        },
        {
          "output_type": "stream",
          "name": "stdout",
          "text": [
            "Epoch [139/3000]: Train loss: 290.0455, Valid loss: 287.6930\n"
          ]
        },
        {
          "output_type": "stream",
          "name": "stderr",
          "text": [
            "Epoch[140/3000]: 100%|██████████| 10/10 [00:00<00:00, 112.32it/s, loss=238]\n"
          ]
        },
        {
          "output_type": "stream",
          "name": "stdout",
          "text": [
            "Epoch [140/3000]: Train loss: 283.0409, Valid loss: 283.7295\n"
          ]
        },
        {
          "output_type": "stream",
          "name": "stderr",
          "text": [
            "Epoch[141/3000]: 100%|██████████| 10/10 [00:00<00:00, 112.20it/s, loss=314]\n"
          ]
        },
        {
          "output_type": "stream",
          "name": "stdout",
          "text": [
            "Epoch [141/3000]: Train loss: 286.8238, Valid loss: 284.9138\n"
          ]
        },
        {
          "output_type": "stream",
          "name": "stderr",
          "text": [
            "Epoch[142/3000]: 100%|██████████| 10/10 [00:00<00:00, 28.20it/s, loss=292]\n"
          ]
        },
        {
          "output_type": "stream",
          "name": "stdout",
          "text": [
            "Epoch [142/3000]: Train loss: 284.8305, Valid loss: 283.9209\n"
          ]
        },
        {
          "output_type": "stream",
          "name": "stderr",
          "text": [
            "Epoch[143/3000]: 100%|██████████| 10/10 [00:00<00:00, 138.06it/s, loss=275]\n"
          ]
        },
        {
          "output_type": "stream",
          "name": "stdout",
          "text": [
            "Epoch [143/3000]: Train loss: 283.1379, Valid loss: 284.5777\n"
          ]
        },
        {
          "output_type": "stream",
          "name": "stderr",
          "text": [
            "Epoch[144/3000]: 100%|██████████| 10/10 [00:00<00:00, 118.83it/s, loss=323]\n"
          ]
        },
        {
          "output_type": "stream",
          "name": "stdout",
          "text": [
            "Epoch [144/3000]: Train loss: 285.2739, Valid loss: 284.4220\n"
          ]
        },
        {
          "output_type": "stream",
          "name": "stderr",
          "text": [
            "Epoch[145/3000]: 100%|██████████| 10/10 [00:00<00:00, 112.08it/s, loss=353]\n"
          ]
        },
        {
          "output_type": "stream",
          "name": "stdout",
          "text": [
            "Epoch [145/3000]: Train loss: 286.3588, Valid loss: 283.5470\n"
          ]
        },
        {
          "output_type": "stream",
          "name": "stderr",
          "text": [
            "Epoch[146/3000]: 100%|██████████| 10/10 [00:00<00:00, 117.85it/s, loss=284]\n"
          ]
        },
        {
          "output_type": "stream",
          "name": "stdout",
          "text": [
            "Epoch [146/3000]: Train loss: 281.5568, Valid loss: 282.1594\n"
          ]
        },
        {
          "output_type": "stream",
          "name": "stderr",
          "text": [
            "Epoch[147/3000]: 100%|██████████| 10/10 [00:00<00:00, 111.83it/s, loss=256]\n"
          ]
        },
        {
          "output_type": "stream",
          "name": "stdout",
          "text": [
            "Epoch [147/3000]: Train loss: 279.2249, Valid loss: 275.2243\n"
          ]
        },
        {
          "output_type": "stream",
          "name": "stderr",
          "text": [
            "Epoch[148/3000]: 100%|██████████| 10/10 [00:00<00:00, 117.16it/s, loss=339]\n"
          ]
        },
        {
          "output_type": "stream",
          "name": "stdout",
          "text": [
            "Epoch [148/3000]: Train loss: 283.4355, Valid loss: 279.7675\n"
          ]
        },
        {
          "output_type": "stream",
          "name": "stderr",
          "text": [
            "Epoch[149/3000]: 100%|██████████| 10/10 [00:00<00:00, 109.35it/s, loss=232]\n"
          ]
        },
        {
          "output_type": "stream",
          "name": "stdout",
          "text": [
            "Epoch [149/3000]: Train loss: 276.3974, Valid loss: 274.0391\n"
          ]
        },
        {
          "output_type": "stream",
          "name": "stderr",
          "text": [
            "Epoch[150/3000]: 100%|██████████| 10/10 [00:00<00:00, 113.87it/s, loss=280]\n"
          ]
        },
        {
          "output_type": "stream",
          "name": "stdout",
          "text": [
            "Epoch [150/3000]: Train loss: 278.5851, Valid loss: 277.1499\n"
          ]
        },
        {
          "output_type": "stream",
          "name": "stderr",
          "text": [
            "Epoch[151/3000]: 100%|██████████| 10/10 [00:00<00:00, 106.77it/s, loss=252]\n"
          ]
        },
        {
          "output_type": "stream",
          "name": "stdout",
          "text": [
            "Epoch [151/3000]: Train loss: 276.2424, Valid loss: 276.4705\n"
          ]
        },
        {
          "output_type": "stream",
          "name": "stderr",
          "text": [
            "Epoch[152/3000]: 100%|██████████| 10/10 [00:00<00:00, 96.82it/s, loss=254]\n"
          ]
        },
        {
          "output_type": "stream",
          "name": "stdout",
          "text": [
            "Epoch [152/3000]: Train loss: 275.6925, Valid loss: 276.3733\n"
          ]
        },
        {
          "output_type": "stream",
          "name": "stderr",
          "text": [
            "Epoch[153/3000]: 100%|██████████| 10/10 [00:00<00:00, 112.84it/s, loss=287]\n"
          ]
        },
        {
          "output_type": "stream",
          "name": "stdout",
          "text": [
            "Epoch [153/3000]: Train loss: 276.9719, Valid loss: 275.0097\n"
          ]
        },
        {
          "output_type": "stream",
          "name": "stderr",
          "text": [
            "Epoch[154/3000]: 100%|██████████| 10/10 [00:00<00:00, 113.99it/s, loss=254]\n"
          ]
        },
        {
          "output_type": "stream",
          "name": "stdout",
          "text": [
            "Epoch [154/3000]: Train loss: 274.3337, Valid loss: 274.0857\n"
          ]
        },
        {
          "output_type": "stream",
          "name": "stderr",
          "text": [
            "Epoch[155/3000]: 100%|██████████| 10/10 [00:00<00:00, 107.79it/s, loss=308]\n"
          ]
        },
        {
          "output_type": "stream",
          "name": "stdout",
          "text": [
            "Epoch [155/3000]: Train loss: 276.8895, Valid loss: 278.8461\n"
          ]
        },
        {
          "output_type": "stream",
          "name": "stderr",
          "text": [
            "Epoch[156/3000]: 100%|██████████| 10/10 [00:00<00:00, 106.65it/s, loss=239]\n"
          ]
        },
        {
          "output_type": "stream",
          "name": "stdout",
          "text": [
            "Epoch [156/3000]: Train loss: 272.1273, Valid loss: 272.9040\n"
          ]
        },
        {
          "output_type": "stream",
          "name": "stderr",
          "text": [
            "Epoch[157/3000]: 100%|██████████| 10/10 [00:00<00:00, 121.39it/s, loss=235]\n"
          ]
        },
        {
          "output_type": "stream",
          "name": "stdout",
          "text": [
            "Epoch [157/3000]: Train loss: 271.2674, Valid loss: 270.2106\n"
          ]
        },
        {
          "output_type": "stream",
          "name": "stderr",
          "text": [
            "Epoch[158/3000]: 100%|██████████| 10/10 [00:00<00:00, 104.94it/s, loss=299]\n"
          ]
        },
        {
          "output_type": "stream",
          "name": "stdout",
          "text": [
            "Epoch [158/3000]: Train loss: 274.3806, Valid loss: 272.4933\n"
          ]
        },
        {
          "output_type": "stream",
          "name": "stderr",
          "text": [
            "Epoch[159/3000]: 100%|██████████| 10/10 [00:00<00:00, 117.62it/s, loss=301]\n"
          ]
        },
        {
          "output_type": "stream",
          "name": "stdout",
          "text": [
            "Epoch [159/3000]: Train loss: 273.8676, Valid loss: 274.0760\n"
          ]
        },
        {
          "output_type": "stream",
          "name": "stderr",
          "text": [
            "Epoch[160/3000]: 100%|██████████| 10/10 [00:00<00:00, 125.14it/s, loss=257]\n"
          ]
        },
        {
          "output_type": "stream",
          "name": "stdout",
          "text": [
            "Epoch [160/3000]: Train loss: 270.5546, Valid loss: 269.7810\n"
          ]
        },
        {
          "output_type": "stream",
          "name": "stderr",
          "text": [
            "Epoch[161/3000]: 100%|██████████| 10/10 [00:00<00:00, 115.44it/s, loss=240]\n"
          ]
        },
        {
          "output_type": "stream",
          "name": "stdout",
          "text": [
            "Epoch [161/3000]: Train loss: 268.8940, Valid loss: 267.6983\n"
          ]
        },
        {
          "output_type": "stream",
          "name": "stderr",
          "text": [
            "Epoch[162/3000]: 100%|██████████| 10/10 [00:00<00:00, 124.54it/s, loss=206]\n"
          ]
        },
        {
          "output_type": "stream",
          "name": "stdout",
          "text": [
            "Epoch [162/3000]: Train loss: 266.2811, Valid loss: 268.7847\n"
          ]
        },
        {
          "output_type": "stream",
          "name": "stderr",
          "text": [
            "Epoch[163/3000]: 100%|██████████| 10/10 [00:00<00:00, 106.40it/s, loss=278]\n"
          ]
        },
        {
          "output_type": "stream",
          "name": "stdout",
          "text": [
            "Epoch [163/3000]: Train loss: 269.8909, Valid loss: 271.8771\n"
          ]
        },
        {
          "output_type": "stream",
          "name": "stderr",
          "text": [
            "Epoch[164/3000]: 100%|██████████| 10/10 [00:00<00:00, 122.39it/s, loss=286]\n"
          ]
        },
        {
          "output_type": "stream",
          "name": "stdout",
          "text": [
            "Epoch [164/3000]: Train loss: 269.7256, Valid loss: 268.4080\n"
          ]
        },
        {
          "output_type": "stream",
          "name": "stderr",
          "text": [
            "Epoch[165/3000]: 100%|██████████| 10/10 [00:00<00:00, 114.50it/s, loss=245]\n"
          ]
        },
        {
          "output_type": "stream",
          "name": "stdout",
          "text": [
            "Epoch [165/3000]: Train loss: 266.6366, Valid loss: 265.1669\n"
          ]
        },
        {
          "output_type": "stream",
          "name": "stderr",
          "text": [
            "Epoch[166/3000]: 100%|██████████| 10/10 [00:00<00:00, 121.41it/s, loss=263]\n"
          ]
        },
        {
          "output_type": "stream",
          "name": "stdout",
          "text": [
            "Epoch [166/3000]: Train loss: 267.0764, Valid loss: 265.7342\n"
          ]
        },
        {
          "output_type": "stream",
          "name": "stderr",
          "text": [
            "Epoch[167/3000]: 100%|██████████| 10/10 [00:00<00:00, 122.52it/s, loss=259]\n"
          ]
        },
        {
          "output_type": "stream",
          "name": "stdout",
          "text": [
            "Epoch [167/3000]: Train loss: 266.2090, Valid loss: 267.2510\n"
          ]
        },
        {
          "output_type": "stream",
          "name": "stderr",
          "text": [
            "Epoch[168/3000]: 100%|██████████| 10/10 [00:00<00:00, 121.97it/s, loss=177]\n"
          ]
        },
        {
          "output_type": "stream",
          "name": "stdout",
          "text": [
            "Epoch [168/3000]: Train loss: 260.7082, Valid loss: 261.0738\n"
          ]
        },
        {
          "output_type": "stream",
          "name": "stderr",
          "text": [
            "Epoch[169/3000]: 100%|██████████| 10/10 [00:00<00:00, 119.05it/s, loss=234]\n"
          ]
        },
        {
          "output_type": "stream",
          "name": "stdout",
          "text": [
            "Epoch [169/3000]: Train loss: 263.4431, Valid loss: 263.0290\n"
          ]
        },
        {
          "output_type": "stream",
          "name": "stderr",
          "text": [
            "Epoch[170/3000]: 100%|██████████| 10/10 [00:00<00:00, 123.47it/s, loss=233]\n"
          ]
        },
        {
          "output_type": "stream",
          "name": "stdout",
          "text": [
            "Epoch [170/3000]: Train loss: 262.8136, Valid loss: 264.4644\n"
          ]
        },
        {
          "output_type": "stream",
          "name": "stderr",
          "text": [
            "Epoch[171/3000]: 100%|██████████| 10/10 [00:00<00:00, 113.21it/s, loss=179]\n"
          ]
        },
        {
          "output_type": "stream",
          "name": "stdout",
          "text": [
            "Epoch [171/3000]: Train loss: 258.9294, Valid loss: 258.2531\n"
          ]
        },
        {
          "output_type": "stream",
          "name": "stderr",
          "text": [
            "Epoch[172/3000]: 100%|██████████| 10/10 [00:00<00:00, 126.61it/s, loss=214]\n"
          ]
        },
        {
          "output_type": "stream",
          "name": "stdout",
          "text": [
            "Epoch [172/3000]: Train loss: 260.4310, Valid loss: 261.6702\n"
          ]
        },
        {
          "output_type": "stream",
          "name": "stderr",
          "text": [
            "Epoch[173/3000]: 100%|██████████| 10/10 [00:00<00:00, 130.72it/s, loss=214]\n"
          ]
        },
        {
          "output_type": "stream",
          "name": "stdout",
          "text": [
            "Epoch [173/3000]: Train loss: 259.8339, Valid loss: 264.2806\n"
          ]
        },
        {
          "output_type": "stream",
          "name": "stderr",
          "text": [
            "Epoch[174/3000]: 100%|██████████| 10/10 [00:00<00:00, 103.63it/s, loss=244]\n"
          ]
        },
        {
          "output_type": "stream",
          "name": "stdout",
          "text": [
            "Epoch [174/3000]: Train loss: 260.9697, Valid loss: 261.0132\n"
          ]
        },
        {
          "output_type": "stream",
          "name": "stderr",
          "text": [
            "Epoch[175/3000]: 100%|██████████| 10/10 [00:00<00:00, 106.86it/s, loss=234]\n"
          ]
        },
        {
          "output_type": "stream",
          "name": "stdout",
          "text": [
            "Epoch [175/3000]: Train loss: 259.7529, Valid loss: 255.7369\n"
          ]
        },
        {
          "output_type": "stream",
          "name": "stderr",
          "text": [
            "Epoch[176/3000]: 100%|██████████| 10/10 [00:00<00:00, 118.05it/s, loss=224]\n"
          ]
        },
        {
          "output_type": "stream",
          "name": "stdout",
          "text": [
            "Epoch [176/3000]: Train loss: 258.5530, Valid loss: 258.9621\n"
          ]
        },
        {
          "output_type": "stream",
          "name": "stderr",
          "text": [
            "Epoch[177/3000]: 100%|██████████| 10/10 [00:00<00:00, 124.37it/s, loss=285]\n"
          ]
        },
        {
          "output_type": "stream",
          "name": "stdout",
          "text": [
            "Epoch [177/3000]: Train loss: 261.5741, Valid loss: 259.1722\n"
          ]
        },
        {
          "output_type": "stream",
          "name": "stderr",
          "text": [
            "Epoch[178/3000]: 100%|██████████| 10/10 [00:00<00:00, 103.01it/s, loss=246]\n"
          ]
        },
        {
          "output_type": "stream",
          "name": "stdout",
          "text": [
            "Epoch [178/3000]: Train loss: 258.6721, Valid loss: 259.1443\n"
          ]
        },
        {
          "output_type": "stream",
          "name": "stderr",
          "text": [
            "Epoch[179/3000]: 100%|██████████| 10/10 [00:00<00:00, 131.12it/s, loss=296]\n"
          ]
        },
        {
          "output_type": "stream",
          "name": "stdout",
          "text": [
            "Epoch [179/3000]: Train loss: 261.0292, Valid loss: 261.1897\n"
          ]
        },
        {
          "output_type": "stream",
          "name": "stderr",
          "text": [
            "Epoch[180/3000]: 100%|██████████| 10/10 [00:00<00:00, 113.05it/s, loss=260]\n"
          ]
        },
        {
          "output_type": "stream",
          "name": "stdout",
          "text": [
            "Epoch [180/3000]: Train loss: 258.2986, Valid loss: 259.9960\n"
          ]
        },
        {
          "output_type": "stream",
          "name": "stderr",
          "text": [
            "Epoch[181/3000]: 100%|██████████| 10/10 [00:00<00:00, 114.02it/s, loss=224]\n"
          ]
        },
        {
          "output_type": "stream",
          "name": "stdout",
          "text": [
            "Epoch [181/3000]: Train loss: 255.5231, Valid loss: 255.0738\n"
          ]
        },
        {
          "output_type": "stream",
          "name": "stderr",
          "text": [
            "Epoch[182/3000]: 100%|██████████| 10/10 [00:00<00:00, 113.93it/s, loss=260]\n"
          ]
        },
        {
          "output_type": "stream",
          "name": "stdout",
          "text": [
            "Epoch [182/3000]: Train loss: 257.0721, Valid loss: 256.8230\n"
          ]
        },
        {
          "output_type": "stream",
          "name": "stderr",
          "text": [
            "Epoch[183/3000]: 100%|██████████| 10/10 [00:00<00:00, 116.00it/s, loss=314]\n"
          ]
        },
        {
          "output_type": "stream",
          "name": "stdout",
          "text": [
            "Epoch [183/3000]: Train loss: 259.6911, Valid loss: 260.5159\n"
          ]
        },
        {
          "output_type": "stream",
          "name": "stderr",
          "text": [
            "Epoch[184/3000]: 100%|██████████| 10/10 [00:00<00:00, 109.40it/s, loss=234]\n"
          ]
        },
        {
          "output_type": "stream",
          "name": "stdout",
          "text": [
            "Epoch [184/3000]: Train loss: 254.3347, Valid loss: 255.8683\n"
          ]
        },
        {
          "output_type": "stream",
          "name": "stderr",
          "text": [
            "Epoch[185/3000]: 100%|██████████| 10/10 [00:00<00:00, 116.02it/s, loss=247]\n"
          ]
        },
        {
          "output_type": "stream",
          "name": "stdout",
          "text": [
            "Epoch [185/3000]: Train loss: 254.5512, Valid loss: 251.6980\n"
          ]
        },
        {
          "output_type": "stream",
          "name": "stderr",
          "text": [
            "Epoch[186/3000]: 100%|██████████| 10/10 [00:00<00:00, 109.78it/s, loss=273]\n"
          ]
        },
        {
          "output_type": "stream",
          "name": "stdout",
          "text": [
            "Epoch [186/3000]: Train loss: 255.4663, Valid loss: 253.1184\n"
          ]
        },
        {
          "output_type": "stream",
          "name": "stderr",
          "text": [
            "Epoch[187/3000]: 100%|██████████| 10/10 [00:00<00:00, 100.34it/s, loss=293]\n"
          ]
        },
        {
          "output_type": "stream",
          "name": "stdout",
          "text": [
            "Epoch [187/3000]: Train loss: 256.0780, Valid loss: 258.4268\n"
          ]
        },
        {
          "output_type": "stream",
          "name": "stderr",
          "text": [
            "Epoch[188/3000]: 100%|██████████| 10/10 [00:00<00:00, 109.85it/s, loss=260]\n"
          ]
        },
        {
          "output_type": "stream",
          "name": "stdout",
          "text": [
            "Epoch [188/3000]: Train loss: 253.5109, Valid loss: 251.4950\n"
          ]
        },
        {
          "output_type": "stream",
          "name": "stderr",
          "text": [
            "Epoch[189/3000]: 100%|██████████| 10/10 [00:00<00:00, 112.01it/s, loss=289]\n"
          ]
        },
        {
          "output_type": "stream",
          "name": "stdout",
          "text": [
            "Epoch [189/3000]: Train loss: 254.6878, Valid loss: 255.8319\n"
          ]
        },
        {
          "output_type": "stream",
          "name": "stderr",
          "text": [
            "Epoch[190/3000]: 100%|██████████| 10/10 [00:00<00:00, 117.74it/s, loss=297]\n"
          ]
        },
        {
          "output_type": "stream",
          "name": "stdout",
          "text": [
            "Epoch [190/3000]: Train loss: 254.5660, Valid loss: 252.4865\n"
          ]
        },
        {
          "output_type": "stream",
          "name": "stderr",
          "text": [
            "Epoch[191/3000]: 100%|██████████| 10/10 [00:00<00:00, 111.89it/s, loss=268]\n"
          ]
        },
        {
          "output_type": "stream",
          "name": "stdout",
          "text": [
            "Epoch [191/3000]: Train loss: 252.2883, Valid loss: 250.7980\n"
          ]
        },
        {
          "output_type": "stream",
          "name": "stderr",
          "text": [
            "Epoch[192/3000]: 100%|██████████| 10/10 [00:00<00:00, 122.64it/s, loss=288]\n"
          ]
        },
        {
          "output_type": "stream",
          "name": "stdout",
          "text": [
            "Epoch [192/3000]: Train loss: 252.8614, Valid loss: 253.6827\n"
          ]
        },
        {
          "output_type": "stream",
          "name": "stderr",
          "text": [
            "Epoch[193/3000]: 100%|██████████| 10/10 [00:00<00:00, 110.90it/s, loss=207]\n"
          ]
        },
        {
          "output_type": "stream",
          "name": "stdout",
          "text": [
            "Epoch [193/3000]: Train loss: 247.4866, Valid loss: 246.3140\n"
          ]
        },
        {
          "output_type": "stream",
          "name": "stderr",
          "text": [
            "Epoch[194/3000]: 100%|██████████| 10/10 [00:00<00:00, 120.73it/s, loss=278]\n"
          ]
        },
        {
          "output_type": "stream",
          "name": "stdout",
          "text": [
            "Epoch [194/3000]: Train loss: 251.1274, Valid loss: 249.6009\n"
          ]
        },
        {
          "output_type": "stream",
          "name": "stderr",
          "text": [
            "Epoch[195/3000]: 100%|██████████| 10/10 [00:00<00:00, 122.51it/s, loss=263]\n"
          ]
        },
        {
          "output_type": "stream",
          "name": "stdout",
          "text": [
            "Epoch [195/3000]: Train loss: 249.6722, Valid loss: 248.1547\n"
          ]
        },
        {
          "output_type": "stream",
          "name": "stderr",
          "text": [
            "Epoch[196/3000]: 100%|██████████| 10/10 [00:00<00:00, 112.94it/s, loss=214]\n"
          ]
        },
        {
          "output_type": "stream",
          "name": "stdout",
          "text": [
            "Epoch [196/3000]: Train loss: 246.1979, Valid loss: 249.2178\n"
          ]
        },
        {
          "output_type": "stream",
          "name": "stderr",
          "text": [
            "Epoch[197/3000]: 100%|██████████| 10/10 [00:00<00:00, 116.16it/s, loss=270]\n"
          ]
        },
        {
          "output_type": "stream",
          "name": "stdout",
          "text": [
            "Epoch [197/3000]: Train loss: 248.9769, Valid loss: 247.5030\n"
          ]
        },
        {
          "output_type": "stream",
          "name": "stderr",
          "text": [
            "Epoch[198/3000]: 100%|██████████| 10/10 [00:00<00:00, 95.23it/s, loss=276]\n"
          ]
        },
        {
          "output_type": "stream",
          "name": "stdout",
          "text": [
            "Epoch [198/3000]: Train loss: 248.8113, Valid loss: 247.8733\n"
          ]
        },
        {
          "output_type": "stream",
          "name": "stderr",
          "text": [
            "Epoch[199/3000]: 100%|██████████| 10/10 [00:00<00:00, 116.96it/s, loss=259]\n"
          ]
        },
        {
          "output_type": "stream",
          "name": "stdout",
          "text": [
            "Epoch [199/3000]: Train loss: 247.1947, Valid loss: 247.8582\n"
          ]
        },
        {
          "output_type": "stream",
          "name": "stderr",
          "text": [
            "Epoch[200/3000]: 100%|██████████| 10/10 [00:00<00:00, 110.79it/s, loss=245]\n"
          ]
        },
        {
          "output_type": "stream",
          "name": "stdout",
          "text": [
            "Epoch [200/3000]: Train loss: 245.8205, Valid loss: 241.9416\n"
          ]
        },
        {
          "output_type": "stream",
          "name": "stderr",
          "text": [
            "Epoch[201/3000]: 100%|██████████| 10/10 [00:00<00:00, 114.26it/s, loss=214]\n"
          ]
        },
        {
          "output_type": "stream",
          "name": "stdout",
          "text": [
            "Epoch [201/3000]: Train loss: 243.4220, Valid loss: 242.1598\n"
          ]
        },
        {
          "output_type": "stream",
          "name": "stderr",
          "text": [
            "Epoch[202/3000]: 100%|██████████| 10/10 [00:00<00:00, 120.16it/s, loss=297]\n"
          ]
        },
        {
          "output_type": "stream",
          "name": "stdout",
          "text": [
            "Epoch [202/3000]: Train loss: 247.8048, Valid loss: 246.7073\n"
          ]
        },
        {
          "output_type": "stream",
          "name": "stderr",
          "text": [
            "Epoch[203/3000]: 100%|██████████| 10/10 [00:00<00:00, 125.05it/s, loss=191]\n"
          ]
        },
        {
          "output_type": "stream",
          "name": "stdout",
          "text": [
            "Epoch [203/3000]: Train loss: 240.9792, Valid loss: 241.6583\n"
          ]
        },
        {
          "output_type": "stream",
          "name": "stderr",
          "text": [
            "Epoch[204/3000]: 100%|██████████| 10/10 [00:00<00:00, 119.43it/s, loss=203]\n"
          ]
        },
        {
          "output_type": "stream",
          "name": "stdout",
          "text": [
            "Epoch [204/3000]: Train loss: 241.1421, Valid loss: 243.8517\n"
          ]
        },
        {
          "output_type": "stream",
          "name": "stderr",
          "text": [
            "Epoch[205/3000]: 100%|██████████| 10/10 [00:00<00:00, 127.29it/s, loss=223]\n"
          ]
        },
        {
          "output_type": "stream",
          "name": "stdout",
          "text": [
            "Epoch [205/3000]: Train loss: 241.7686, Valid loss: 239.6636\n"
          ]
        },
        {
          "output_type": "stream",
          "name": "stderr",
          "text": [
            "Epoch[206/3000]: 100%|██████████| 10/10 [00:00<00:00, 116.19it/s, loss=229]\n"
          ]
        },
        {
          "output_type": "stream",
          "name": "stdout",
          "text": [
            "Epoch [206/3000]: Train loss: 241.5971, Valid loss: 245.5630\n"
          ]
        },
        {
          "output_type": "stream",
          "name": "stderr",
          "text": [
            "Epoch[207/3000]: 100%|██████████| 10/10 [00:00<00:00, 109.10it/s, loss=239]\n"
          ]
        },
        {
          "output_type": "stream",
          "name": "stdout",
          "text": [
            "Epoch [207/3000]: Train loss: 241.6613, Valid loss: 240.9645\n"
          ]
        },
        {
          "output_type": "stream",
          "name": "stderr",
          "text": [
            "Epoch[208/3000]: 100%|██████████| 10/10 [00:00<00:00, 122.79it/s, loss=270]\n"
          ]
        },
        {
          "output_type": "stream",
          "name": "stdout",
          "text": [
            "Epoch [208/3000]: Train loss: 242.9349, Valid loss: 239.8402\n"
          ]
        },
        {
          "output_type": "stream",
          "name": "stderr",
          "text": [
            "Epoch[209/3000]: 100%|██████████| 10/10 [00:00<00:00, 122.64it/s, loss=218]\n"
          ]
        },
        {
          "output_type": "stream",
          "name": "stdout",
          "text": [
            "Epoch [209/3000]: Train loss: 239.3011, Valid loss: 238.9224\n"
          ]
        },
        {
          "output_type": "stream",
          "name": "stderr",
          "text": [
            "Epoch[210/3000]: 100%|██████████| 10/10 [00:00<00:00, 122.85it/s, loss=244]\n"
          ]
        },
        {
          "output_type": "stream",
          "name": "stdout",
          "text": [
            "Epoch [210/3000]: Train loss: 240.3295, Valid loss: 237.8970\n"
          ]
        },
        {
          "output_type": "stream",
          "name": "stderr",
          "text": [
            "Epoch[211/3000]: 100%|██████████| 10/10 [00:00<00:00, 121.42it/s, loss=215]\n"
          ]
        },
        {
          "output_type": "stream",
          "name": "stdout",
          "text": [
            "Epoch [211/3000]: Train loss: 238.0600, Valid loss: 237.0400\n"
          ]
        },
        {
          "output_type": "stream",
          "name": "stderr",
          "text": [
            "Epoch[212/3000]: 100%|██████████| 10/10 [00:00<00:00, 115.26it/s, loss=251]\n"
          ]
        },
        {
          "output_type": "stream",
          "name": "stdout",
          "text": [
            "Epoch [212/3000]: Train loss: 239.7010, Valid loss: 238.0444\n"
          ]
        },
        {
          "output_type": "stream",
          "name": "stderr",
          "text": [
            "Epoch[213/3000]: 100%|██████████| 10/10 [00:00<00:00, 121.99it/s, loss=241]\n"
          ]
        },
        {
          "output_type": "stream",
          "name": "stdout",
          "text": [
            "Epoch [213/3000]: Train loss: 238.5534, Valid loss: 241.0393\n"
          ]
        },
        {
          "output_type": "stream",
          "name": "stderr",
          "text": [
            "Epoch[214/3000]: 100%|██████████| 10/10 [00:00<00:00, 133.74it/s, loss=192]\n"
          ]
        },
        {
          "output_type": "stream",
          "name": "stdout",
          "text": [
            "Epoch [214/3000]: Train loss: 235.1091, Valid loss: 240.7033\n"
          ]
        },
        {
          "output_type": "stream",
          "name": "stderr",
          "text": [
            "Epoch[215/3000]: 100%|██████████| 10/10 [00:00<00:00, 136.28it/s, loss=261]\n"
          ]
        },
        {
          "output_type": "stream",
          "name": "stdout",
          "text": [
            "Epoch [215/3000]: Train loss: 238.7022, Valid loss: 237.1651\n"
          ]
        },
        {
          "output_type": "stream",
          "name": "stderr",
          "text": [
            "Epoch[216/3000]: 100%|██████████| 10/10 [00:00<00:00, 135.11it/s, loss=225]\n"
          ]
        },
        {
          "output_type": "stream",
          "name": "stdout",
          "text": [
            "Epoch [216/3000]: Train loss: 236.0454, Valid loss: 238.3877\n"
          ]
        },
        {
          "output_type": "stream",
          "name": "stderr",
          "text": [
            "Epoch[217/3000]: 100%|██████████| 10/10 [00:00<00:00, 135.10it/s, loss=264]\n"
          ]
        },
        {
          "output_type": "stream",
          "name": "stdout",
          "text": [
            "Epoch [217/3000]: Train loss: 237.8561, Valid loss: 234.7122\n"
          ]
        },
        {
          "output_type": "stream",
          "name": "stderr",
          "text": [
            "Epoch[218/3000]: 100%|██████████| 10/10 [00:00<00:00, 123.66it/s, loss=189]\n"
          ]
        },
        {
          "output_type": "stream",
          "name": "stdout",
          "text": [
            "Epoch [218/3000]: Train loss: 232.9076, Valid loss: 231.3322\n"
          ]
        },
        {
          "output_type": "stream",
          "name": "stderr",
          "text": [
            "Epoch[219/3000]: 100%|██████████| 10/10 [00:00<00:00, 131.27it/s, loss=222]\n"
          ]
        },
        {
          "output_type": "stream",
          "name": "stdout",
          "text": [
            "Epoch [219/3000]: Train loss: 234.2926, Valid loss: 231.6476\n"
          ]
        },
        {
          "output_type": "stream",
          "name": "stderr",
          "text": [
            "Epoch[220/3000]: 100%|██████████| 10/10 [00:00<00:00, 126.60it/s, loss=304]\n"
          ]
        },
        {
          "output_type": "stream",
          "name": "stdout",
          "text": [
            "Epoch [220/3000]: Train loss: 238.6667, Valid loss: 237.5779\n"
          ]
        },
        {
          "output_type": "stream",
          "name": "stderr",
          "text": [
            "Epoch[221/3000]: 100%|██████████| 10/10 [00:00<00:00, 133.33it/s, loss=239]\n"
          ]
        },
        {
          "output_type": "stream",
          "name": "stdout",
          "text": [
            "Epoch [221/3000]: Train loss: 234.2854, Valid loss: 233.8030\n"
          ]
        },
        {
          "output_type": "stream",
          "name": "stderr",
          "text": [
            "Epoch[222/3000]: 100%|██████████| 10/10 [00:00<00:00, 135.42it/s, loss=256]\n"
          ]
        },
        {
          "output_type": "stream",
          "name": "stdout",
          "text": [
            "Epoch [222/3000]: Train loss: 234.8218, Valid loss: 236.9291\n"
          ]
        },
        {
          "output_type": "stream",
          "name": "stderr",
          "text": [
            "Epoch[223/3000]: 100%|██████████| 10/10 [00:00<00:00, 133.61it/s, loss=249]\n"
          ]
        },
        {
          "output_type": "stream",
          "name": "stdout",
          "text": [
            "Epoch [223/3000]: Train loss: 233.8778, Valid loss: 234.4419\n"
          ]
        },
        {
          "output_type": "stream",
          "name": "stderr",
          "text": [
            "Epoch[224/3000]: 100%|██████████| 10/10 [00:00<00:00, 131.11it/s, loss=232]\n"
          ]
        },
        {
          "output_type": "stream",
          "name": "stdout",
          "text": [
            "Epoch [224/3000]: Train loss: 232.3455, Valid loss: 232.7870\n"
          ]
        },
        {
          "output_type": "stream",
          "name": "stderr",
          "text": [
            "Epoch[225/3000]: 100%|██████████| 10/10 [00:00<00:00, 135.68it/s, loss=228]\n"
          ]
        },
        {
          "output_type": "stream",
          "name": "stdout",
          "text": [
            "Epoch [225/3000]: Train loss: 231.6462, Valid loss: 231.1656\n"
          ]
        },
        {
          "output_type": "stream",
          "name": "stderr",
          "text": [
            "Epoch[226/3000]: 100%|██████████| 10/10 [00:00<00:00, 128.63it/s, loss=226]\n"
          ]
        },
        {
          "output_type": "stream",
          "name": "stdout",
          "text": [
            "Epoch [226/3000]: Train loss: 231.0065, Valid loss: 234.2628\n"
          ]
        },
        {
          "output_type": "stream",
          "name": "stderr",
          "text": [
            "Epoch[227/3000]: 100%|██████████| 10/10 [00:00<00:00, 129.88it/s, loss=206]\n"
          ]
        },
        {
          "output_type": "stream",
          "name": "stdout",
          "text": [
            "Epoch [227/3000]: Train loss: 229.3345, Valid loss: 231.7211\n"
          ]
        },
        {
          "output_type": "stream",
          "name": "stderr",
          "text": [
            "Epoch[228/3000]: 100%|██████████| 10/10 [00:00<00:00, 115.93it/s, loss=244]\n"
          ]
        },
        {
          "output_type": "stream",
          "name": "stdout",
          "text": [
            "Epoch [228/3000]: Train loss: 231.1108, Valid loss: 229.7075\n"
          ]
        },
        {
          "output_type": "stream",
          "name": "stderr",
          "text": [
            "Epoch[229/3000]: 100%|██████████| 10/10 [00:00<00:00, 124.62it/s, loss=232]\n"
          ]
        },
        {
          "output_type": "stream",
          "name": "stdout",
          "text": [
            "Epoch [229/3000]: Train loss: 229.8826, Valid loss: 229.6104\n"
          ]
        },
        {
          "output_type": "stream",
          "name": "stderr",
          "text": [
            "Epoch[230/3000]: 100%|██████████| 10/10 [00:00<00:00, 93.26it/s, loss=260]\n"
          ]
        },
        {
          "output_type": "stream",
          "name": "stdout",
          "text": [
            "Epoch [230/3000]: Train loss: 231.0485, Valid loss: 228.8097\n"
          ]
        },
        {
          "output_type": "stream",
          "name": "stderr",
          "text": [
            "Epoch[231/3000]: 100%|██████████| 10/10 [00:00<00:00, 119.44it/s, loss=216]\n"
          ]
        },
        {
          "output_type": "stream",
          "name": "stdout",
          "text": [
            "Epoch [231/3000]: Train loss: 227.9265, Valid loss: 226.4580\n"
          ]
        },
        {
          "output_type": "stream",
          "name": "stderr",
          "text": [
            "Epoch[232/3000]: 100%|██████████| 10/10 [00:00<00:00, 134.45it/s, loss=169]\n"
          ]
        },
        {
          "output_type": "stream",
          "name": "stdout",
          "text": [
            "Epoch [232/3000]: Train loss: 224.6374, Valid loss: 223.2881\n"
          ]
        },
        {
          "output_type": "stream",
          "name": "stderr",
          "text": [
            "Epoch[233/3000]: 100%|██████████| 10/10 [00:00<00:00, 135.73it/s, loss=259]\n"
          ]
        },
        {
          "output_type": "stream",
          "name": "stdout",
          "text": [
            "Epoch [233/3000]: Train loss: 229.5082, Valid loss: 230.5921\n"
          ]
        },
        {
          "output_type": "stream",
          "name": "stderr",
          "text": [
            "Epoch[234/3000]: 100%|██████████| 10/10 [00:00<00:00, 131.02it/s, loss=191]\n"
          ]
        },
        {
          "output_type": "stream",
          "name": "stdout",
          "text": [
            "Epoch [234/3000]: Train loss: 225.0181, Valid loss: 226.5648\n"
          ]
        },
        {
          "output_type": "stream",
          "name": "stderr",
          "text": [
            "Epoch[235/3000]: 100%|██████████| 10/10 [00:00<00:00, 137.47it/s, loss=192]\n"
          ]
        },
        {
          "output_type": "stream",
          "name": "stdout",
          "text": [
            "Epoch [235/3000]: Train loss: 224.5928, Valid loss: 225.3592\n"
          ]
        },
        {
          "output_type": "stream",
          "name": "stderr",
          "text": [
            "Epoch[236/3000]: 100%|██████████| 10/10 [00:00<00:00, 137.84it/s, loss=275]\n"
          ]
        },
        {
          "output_type": "stream",
          "name": "stdout",
          "text": [
            "Epoch [236/3000]: Train loss: 229.0013, Valid loss: 224.6715\n"
          ]
        },
        {
          "output_type": "stream",
          "name": "stderr",
          "text": [
            "Epoch[237/3000]: 100%|██████████| 10/10 [00:00<00:00, 119.23it/s, loss=257]\n"
          ]
        },
        {
          "output_type": "stream",
          "name": "stdout",
          "text": [
            "Epoch [237/3000]: Train loss: 227.4779, Valid loss: 227.8110\n"
          ]
        },
        {
          "output_type": "stream",
          "name": "stderr",
          "text": [
            "Epoch[238/3000]: 100%|██████████| 10/10 [00:00<00:00, 130.56it/s, loss=127]\n"
          ]
        },
        {
          "output_type": "stream",
          "name": "stdout",
          "text": [
            "Epoch [238/3000]: Train loss: 219.2761, Valid loss: 220.7431\n"
          ]
        },
        {
          "output_type": "stream",
          "name": "stderr",
          "text": [
            "Epoch[239/3000]: 100%|██████████| 10/10 [00:00<00:00, 126.65it/s, loss=236]\n"
          ]
        },
        {
          "output_type": "stream",
          "name": "stdout",
          "text": [
            "Epoch [239/3000]: Train loss: 225.2759, Valid loss: 225.5178\n"
          ]
        },
        {
          "output_type": "stream",
          "name": "stderr",
          "text": [
            "Epoch[240/3000]: 100%|██████████| 10/10 [00:00<00:00, 118.60it/s, loss=165]\n"
          ]
        },
        {
          "output_type": "stream",
          "name": "stdout",
          "text": [
            "Epoch [240/3000]: Train loss: 220.5581, Valid loss: 220.1906\n"
          ]
        },
        {
          "output_type": "stream",
          "name": "stderr",
          "text": [
            "Epoch[241/3000]: 100%|██████████| 10/10 [00:00<00:00, 112.36it/s, loss=320]\n"
          ]
        },
        {
          "output_type": "stream",
          "name": "stdout",
          "text": [
            "Epoch [241/3000]: Train loss: 229.3322, Valid loss: 228.2504\n"
          ]
        },
        {
          "output_type": "stream",
          "name": "stderr",
          "text": [
            "Epoch[242/3000]: 100%|██████████| 10/10 [00:00<00:00, 110.98it/s, loss=188]\n"
          ]
        },
        {
          "output_type": "stream",
          "name": "stdout",
          "text": [
            "Epoch [242/3000]: Train loss: 221.0394, Valid loss: 220.3458\n"
          ]
        },
        {
          "output_type": "stream",
          "name": "stderr",
          "text": [
            "Epoch[243/3000]: 100%|██████████| 10/10 [00:00<00:00, 116.11it/s, loss=260]\n"
          ]
        },
        {
          "output_type": "stream",
          "name": "stdout",
          "text": [
            "Epoch [243/3000]: Train loss: 224.8252, Valid loss: 222.6436\n"
          ]
        },
        {
          "output_type": "stream",
          "name": "stderr",
          "text": [
            "Epoch[244/3000]: 100%|██████████| 10/10 [00:00<00:00, 110.40it/s, loss=179]\n"
          ]
        },
        {
          "output_type": "stream",
          "name": "stdout",
          "text": [
            "Epoch [244/3000]: Train loss: 219.5197, Valid loss: 220.6928\n"
          ]
        },
        {
          "output_type": "stream",
          "name": "stderr",
          "text": [
            "Epoch[245/3000]: 100%|██████████| 10/10 [00:00<00:00, 107.14it/s, loss=214]\n"
          ]
        },
        {
          "output_type": "stream",
          "name": "stdout",
          "text": [
            "Epoch [245/3000]: Train loss: 221.1367, Valid loss: 219.9004\n"
          ]
        },
        {
          "output_type": "stream",
          "name": "stderr",
          "text": [
            "Epoch[246/3000]: 100%|██████████| 10/10 [00:00<00:00, 129.04it/s, loss=243]\n"
          ]
        },
        {
          "output_type": "stream",
          "name": "stdout",
          "text": [
            "Epoch [246/3000]: Train loss: 222.4311, Valid loss: 221.2582\n"
          ]
        },
        {
          "output_type": "stream",
          "name": "stderr",
          "text": [
            "Epoch[247/3000]: 100%|██████████| 10/10 [00:00<00:00, 126.23it/s, loss=263]\n"
          ]
        },
        {
          "output_type": "stream",
          "name": "stdout",
          "text": [
            "Epoch [247/3000]: Train loss: 223.1238, Valid loss: 220.7562\n"
          ]
        },
        {
          "output_type": "stream",
          "name": "stderr",
          "text": [
            "Epoch[248/3000]: 100%|██████████| 10/10 [00:00<00:00, 133.16it/s, loss=219]\n"
          ]
        },
        {
          "output_type": "stream",
          "name": "stdout",
          "text": [
            "Epoch [248/3000]: Train loss: 220.0639, Valid loss: 216.6681\n"
          ]
        },
        {
          "output_type": "stream",
          "name": "stderr",
          "text": [
            "Epoch[249/3000]: 100%|██████████| 10/10 [00:00<00:00, 114.45it/s, loss=190]\n"
          ]
        },
        {
          "output_type": "stream",
          "name": "stdout",
          "text": [
            "Epoch [249/3000]: Train loss: 217.8869, Valid loss: 218.2391\n"
          ]
        },
        {
          "output_type": "stream",
          "name": "stderr",
          "text": [
            "Epoch[250/3000]: 100%|██████████| 10/10 [00:00<00:00, 125.80it/s, loss=295]\n"
          ]
        },
        {
          "output_type": "stream",
          "name": "stdout",
          "text": [
            "Epoch [250/3000]: Train loss: 223.6673, Valid loss: 222.2015\n"
          ]
        },
        {
          "output_type": "stream",
          "name": "stderr",
          "text": [
            "Epoch[251/3000]: 100%|██████████| 10/10 [00:00<00:00, 113.48it/s, loss=234]\n"
          ]
        },
        {
          "output_type": "stream",
          "name": "stdout",
          "text": [
            "Epoch [251/3000]: Train loss: 219.5776, Valid loss: 220.5848\n"
          ]
        },
        {
          "output_type": "stream",
          "name": "stderr",
          "text": [
            "Epoch[252/3000]: 100%|██████████| 10/10 [00:00<00:00, 111.99it/s, loss=240]\n"
          ]
        },
        {
          "output_type": "stream",
          "name": "stdout",
          "text": [
            "Epoch [252/3000]: Train loss: 219.5142, Valid loss: 218.9403\n"
          ]
        },
        {
          "output_type": "stream",
          "name": "stderr",
          "text": [
            "Epoch[253/3000]: 100%|██████████| 10/10 [00:00<00:00, 113.03it/s, loss=229]\n"
          ]
        },
        {
          "output_type": "stream",
          "name": "stdout",
          "text": [
            "Epoch [253/3000]: Train loss: 218.4050, Valid loss: 216.2352\n"
          ]
        },
        {
          "output_type": "stream",
          "name": "stderr",
          "text": [
            "Epoch[254/3000]: 100%|██████████| 10/10 [00:00<00:00, 126.12it/s, loss=170]\n"
          ]
        },
        {
          "output_type": "stream",
          "name": "stdout",
          "text": [
            "Epoch [254/3000]: Train loss: 214.4110, Valid loss: 214.1599\n"
          ]
        },
        {
          "output_type": "stream",
          "name": "stderr",
          "text": [
            "Epoch[255/3000]: 100%|██████████| 10/10 [00:00<00:00, 105.14it/s, loss=211]\n"
          ]
        },
        {
          "output_type": "stream",
          "name": "stdout",
          "text": [
            "Epoch [255/3000]: Train loss: 216.4293, Valid loss: 215.7726\n"
          ]
        },
        {
          "output_type": "stream",
          "name": "stderr",
          "text": [
            "Epoch[256/3000]: 100%|██████████| 10/10 [00:00<00:00, 126.57it/s, loss=178]\n"
          ]
        },
        {
          "output_type": "stream",
          "name": "stdout",
          "text": [
            "Epoch [256/3000]: Train loss: 213.9968, Valid loss: 212.4408\n"
          ]
        },
        {
          "output_type": "stream",
          "name": "stderr",
          "text": [
            "Epoch[257/3000]: 100%|██████████| 10/10 [00:00<00:00, 113.52it/s, loss=224]\n"
          ]
        },
        {
          "output_type": "stream",
          "name": "stdout",
          "text": [
            "Epoch [257/3000]: Train loss: 216.2880, Valid loss: 214.2305\n"
          ]
        },
        {
          "output_type": "stream",
          "name": "stderr",
          "text": [
            "Epoch[258/3000]: 100%|██████████| 10/10 [00:00<00:00, 115.25it/s, loss=257]\n"
          ]
        },
        {
          "output_type": "stream",
          "name": "stdout",
          "text": [
            "Epoch [258/3000]: Train loss: 217.8310, Valid loss: 216.9970\n"
          ]
        },
        {
          "output_type": "stream",
          "name": "stderr",
          "text": [
            "Epoch[259/3000]: 100%|██████████| 10/10 [00:00<00:00, 120.42it/s, loss=207]\n"
          ]
        },
        {
          "output_type": "stream",
          "name": "stdout",
          "text": [
            "Epoch [259/3000]: Train loss: 214.4219, Valid loss: 215.1192\n"
          ]
        },
        {
          "output_type": "stream",
          "name": "stderr",
          "text": [
            "Epoch[260/3000]: 100%|██████████| 10/10 [00:00<00:00, 115.31it/s, loss=169]\n"
          ]
        },
        {
          "output_type": "stream",
          "name": "stdout",
          "text": [
            "Epoch [260/3000]: Train loss: 211.7311, Valid loss: 212.8203\n"
          ]
        },
        {
          "output_type": "stream",
          "name": "stderr",
          "text": [
            "Epoch[261/3000]: 100%|██████████| 10/10 [00:00<00:00, 125.70it/s, loss=200]\n"
          ]
        },
        {
          "output_type": "stream",
          "name": "stdout",
          "text": [
            "Epoch [261/3000]: Train loss: 213.1453, Valid loss: 214.8300\n"
          ]
        },
        {
          "output_type": "stream",
          "name": "stderr",
          "text": [
            "Epoch[262/3000]: 100%|██████████| 10/10 [00:00<00:00, 113.34it/s, loss=265]\n"
          ]
        },
        {
          "output_type": "stream",
          "name": "stdout",
          "text": [
            "Epoch [262/3000]: Train loss: 216.5579, Valid loss: 215.8834\n"
          ]
        },
        {
          "output_type": "stream",
          "name": "stderr",
          "text": [
            "Epoch[263/3000]: 100%|██████████| 10/10 [00:00<00:00, 115.99it/s, loss=202]\n"
          ]
        },
        {
          "output_type": "stream",
          "name": "stdout",
          "text": [
            "Epoch [263/3000]: Train loss: 212.3639, Valid loss: 212.8267\n"
          ]
        },
        {
          "output_type": "stream",
          "name": "stderr",
          "text": [
            "Epoch[264/3000]: 100%|██████████| 10/10 [00:00<00:00, 132.27it/s, loss=174]\n"
          ]
        },
        {
          "output_type": "stream",
          "name": "stdout",
          "text": [
            "Epoch [264/3000]: Train loss: 210.2690, Valid loss: 210.3054\n"
          ]
        },
        {
          "output_type": "stream",
          "name": "stderr",
          "text": [
            "Epoch[265/3000]: 100%|██████████| 10/10 [00:00<00:00, 108.86it/s, loss=244]\n"
          ]
        },
        {
          "output_type": "stream",
          "name": "stdout",
          "text": [
            "Epoch [265/3000]: Train loss: 214.0160, Valid loss: 210.4745\n"
          ]
        },
        {
          "output_type": "stream",
          "name": "stderr",
          "text": [
            "Epoch[266/3000]: 100%|██████████| 10/10 [00:00<00:00, 117.35it/s, loss=177]\n"
          ]
        },
        {
          "output_type": "stream",
          "name": "stdout",
          "text": [
            "Epoch [266/3000]: Train loss: 209.6433, Valid loss: 209.3265\n"
          ]
        },
        {
          "output_type": "stream",
          "name": "stderr",
          "text": [
            "Epoch[267/3000]: 100%|██████████| 10/10 [00:00<00:00, 137.85it/s, loss=220]\n"
          ]
        },
        {
          "output_type": "stream",
          "name": "stdout",
          "text": [
            "Epoch [267/3000]: Train loss: 211.7559, Valid loss: 210.9132\n"
          ]
        },
        {
          "output_type": "stream",
          "name": "stderr",
          "text": [
            "Epoch[268/3000]: 100%|██████████| 10/10 [00:00<00:00, 131.54it/s, loss=287]\n"
          ]
        },
        {
          "output_type": "stream",
          "name": "stdout",
          "text": [
            "Epoch [268/3000]: Train loss: 215.2975, Valid loss: 213.5430\n"
          ]
        },
        {
          "output_type": "stream",
          "name": "stderr",
          "text": [
            "Epoch[269/3000]: 100%|██████████| 10/10 [00:00<00:00, 124.84it/s, loss=185]\n"
          ]
        },
        {
          "output_type": "stream",
          "name": "stdout",
          "text": [
            "Epoch [269/3000]: Train loss: 208.8088, Valid loss: 210.2509\n"
          ]
        },
        {
          "output_type": "stream",
          "name": "stderr",
          "text": [
            "Epoch[270/3000]: 100%|██████████| 10/10 [00:00<00:00, 137.85it/s, loss=164]\n"
          ]
        },
        {
          "output_type": "stream",
          "name": "stdout",
          "text": [
            "Epoch [270/3000]: Train loss: 207.1645, Valid loss: 209.5835\n"
          ]
        },
        {
          "output_type": "stream",
          "name": "stderr",
          "text": [
            "Epoch[271/3000]: 100%|██████████| 10/10 [00:00<00:00, 115.88it/s, loss=237]\n"
          ]
        },
        {
          "output_type": "stream",
          "name": "stdout",
          "text": [
            "Epoch [271/3000]: Train loss: 211.0406, Valid loss: 210.6848\n"
          ]
        },
        {
          "output_type": "stream",
          "name": "stderr",
          "text": [
            "Epoch[272/3000]: 100%|██████████| 10/10 [00:00<00:00, 29.89it/s, loss=202]\n"
          ]
        },
        {
          "output_type": "stream",
          "name": "stdout",
          "text": [
            "Epoch [272/3000]: Train loss: 208.5884, Valid loss: 206.2435\n"
          ]
        },
        {
          "output_type": "stream",
          "name": "stderr",
          "text": [
            "Epoch[273/3000]: 100%|██████████| 10/10 [00:00<00:00, 144.66it/s, loss=243]\n"
          ]
        },
        {
          "output_type": "stream",
          "name": "stdout",
          "text": [
            "Epoch [273/3000]: Train loss: 210.6153, Valid loss: 208.7081\n"
          ]
        },
        {
          "output_type": "stream",
          "name": "stderr",
          "text": [
            "Epoch[274/3000]: 100%|██████████| 10/10 [00:00<00:00, 115.91it/s, loss=229]\n"
          ]
        },
        {
          "output_type": "stream",
          "name": "stdout",
          "text": [
            "Epoch [274/3000]: Train loss: 209.3636, Valid loss: 207.6674\n"
          ]
        },
        {
          "output_type": "stream",
          "name": "stderr",
          "text": [
            "Epoch[275/3000]: 100%|██████████| 10/10 [00:00<00:00, 139.89it/s, loss=205]\n"
          ]
        },
        {
          "output_type": "stream",
          "name": "stdout",
          "text": [
            "Epoch [275/3000]: Train loss: 207.5186, Valid loss: 206.6585\n"
          ]
        },
        {
          "output_type": "stream",
          "name": "stderr",
          "text": [
            "Epoch[276/3000]: 100%|██████████| 10/10 [00:00<00:00, 137.44it/s, loss=200]\n"
          ]
        },
        {
          "output_type": "stream",
          "name": "stdout",
          "text": [
            "Epoch [276/3000]: Train loss: 206.8069, Valid loss: 206.5203\n"
          ]
        },
        {
          "output_type": "stream",
          "name": "stderr",
          "text": [
            "Epoch[277/3000]: 100%|██████████| 10/10 [00:00<00:00, 131.83it/s, loss=245]\n"
          ]
        },
        {
          "output_type": "stream",
          "name": "stdout",
          "text": [
            "Epoch [277/3000]: Train loss: 209.0550, Valid loss: 209.3641\n"
          ]
        },
        {
          "output_type": "stream",
          "name": "stderr",
          "text": [
            "Epoch[278/3000]: 100%|██████████| 10/10 [00:00<00:00, 139.31it/s, loss=219]\n"
          ]
        },
        {
          "output_type": "stream",
          "name": "stdout",
          "text": [
            "Epoch [278/3000]: Train loss: 207.1420, Valid loss: 207.4530\n"
          ]
        },
        {
          "output_type": "stream",
          "name": "stderr",
          "text": [
            "Epoch[279/3000]: 100%|██████████| 10/10 [00:00<00:00, 129.92it/s, loss=221]\n"
          ]
        },
        {
          "output_type": "stream",
          "name": "stdout",
          "text": [
            "Epoch [279/3000]: Train loss: 206.8113, Valid loss: 210.4037\n"
          ]
        },
        {
          "output_type": "stream",
          "name": "stderr",
          "text": [
            "Epoch[280/3000]: 100%|██████████| 10/10 [00:00<00:00, 118.21it/s, loss=255]\n"
          ]
        },
        {
          "output_type": "stream",
          "name": "stdout",
          "text": [
            "Epoch [280/3000]: Train loss: 208.4111, Valid loss: 207.5054\n"
          ]
        },
        {
          "output_type": "stream",
          "name": "stderr",
          "text": [
            "Epoch[281/3000]: 100%|██████████| 10/10 [00:00<00:00, 135.12it/s, loss=204]\n"
          ]
        },
        {
          "output_type": "stream",
          "name": "stdout",
          "text": [
            "Epoch [281/3000]: Train loss: 204.9853, Valid loss: 205.1544\n"
          ]
        },
        {
          "output_type": "stream",
          "name": "stderr",
          "text": [
            "Epoch[282/3000]: 100%|██████████| 10/10 [00:00<00:00, 122.84it/s, loss=228]\n"
          ]
        },
        {
          "output_type": "stream",
          "name": "stdout",
          "text": [
            "Epoch [282/3000]: Train loss: 206.0194, Valid loss: 203.9778\n"
          ]
        },
        {
          "output_type": "stream",
          "name": "stderr",
          "text": [
            "Epoch[283/3000]: 100%|██████████| 10/10 [00:00<00:00, 135.21it/s, loss=187]\n"
          ]
        },
        {
          "output_type": "stream",
          "name": "stdout",
          "text": [
            "Epoch [283/3000]: Train loss: 203.2205, Valid loss: 203.0521\n"
          ]
        },
        {
          "output_type": "stream",
          "name": "stderr",
          "text": [
            "Epoch[284/3000]: 100%|██████████| 10/10 [00:00<00:00, 135.41it/s, loss=192]\n"
          ]
        },
        {
          "output_type": "stream",
          "name": "stdout",
          "text": [
            "Epoch [284/3000]: Train loss: 203.0792, Valid loss: 205.7853\n"
          ]
        },
        {
          "output_type": "stream",
          "name": "stderr",
          "text": [
            "Epoch[285/3000]: 100%|██████████| 10/10 [00:00<00:00, 135.93it/s, loss=187]\n"
          ]
        },
        {
          "output_type": "stream",
          "name": "stdout",
          "text": [
            "Epoch [285/3000]: Train loss: 202.4393, Valid loss: 203.8021\n"
          ]
        },
        {
          "output_type": "stream",
          "name": "stderr",
          "text": [
            "Epoch[286/3000]: 100%|██████████| 10/10 [00:00<00:00, 116.14it/s, loss=218]\n"
          ]
        },
        {
          "output_type": "stream",
          "name": "stdout",
          "text": [
            "Epoch [286/3000]: Train loss: 203.8490, Valid loss: 202.6816\n"
          ]
        },
        {
          "output_type": "stream",
          "name": "stderr",
          "text": [
            "Epoch[287/3000]: 100%|██████████| 10/10 [00:00<00:00, 116.60it/s, loss=166]\n"
          ]
        },
        {
          "output_type": "stream",
          "name": "stdout",
          "text": [
            "Epoch [287/3000]: Train loss: 200.3586, Valid loss: 200.6719\n"
          ]
        },
        {
          "output_type": "stream",
          "name": "stderr",
          "text": [
            "Epoch[288/3000]: 100%|██████████| 10/10 [00:00<00:00, 113.59it/s, loss=193]\n"
          ]
        },
        {
          "output_type": "stream",
          "name": "stdout",
          "text": [
            "Epoch [288/3000]: Train loss: 201.5780, Valid loss: 202.0972\n"
          ]
        },
        {
          "output_type": "stream",
          "name": "stderr",
          "text": [
            "Epoch[289/3000]: 100%|██████████| 10/10 [00:00<00:00, 138.69it/s, loss=203]\n"
          ]
        },
        {
          "output_type": "stream",
          "name": "stdout",
          "text": [
            "Epoch [289/3000]: Train loss: 201.8157, Valid loss: 201.3900\n"
          ]
        },
        {
          "output_type": "stream",
          "name": "stderr",
          "text": [
            "Epoch[290/3000]: 100%|██████████| 10/10 [00:00<00:00, 125.72it/s, loss=207]\n"
          ]
        },
        {
          "output_type": "stream",
          "name": "stdout",
          "text": [
            "Epoch [290/3000]: Train loss: 201.6283, Valid loss: 202.2940\n"
          ]
        },
        {
          "output_type": "stream",
          "name": "stderr",
          "text": [
            "Epoch[291/3000]: 100%|██████████| 10/10 [00:00<00:00, 114.96it/s, loss=195]\n"
          ]
        },
        {
          "output_type": "stream",
          "name": "stdout",
          "text": [
            "Epoch [291/3000]: Train loss: 200.5475, Valid loss: 200.9295\n"
          ]
        },
        {
          "output_type": "stream",
          "name": "stderr",
          "text": [
            "Epoch[292/3000]: 100%|██████████| 10/10 [00:00<00:00, 129.90it/s, loss=208]\n"
          ]
        },
        {
          "output_type": "stream",
          "name": "stdout",
          "text": [
            "Epoch [292/3000]: Train loss: 200.9052, Valid loss: 199.6392\n"
          ]
        },
        {
          "output_type": "stream",
          "name": "stderr",
          "text": [
            "Epoch[293/3000]: 100%|██████████| 10/10 [00:00<00:00, 134.51it/s, loss=207]\n"
          ]
        },
        {
          "output_type": "stream",
          "name": "stdout",
          "text": [
            "Epoch [293/3000]: Train loss: 200.4691, Valid loss: 198.7500\n"
          ]
        },
        {
          "output_type": "stream",
          "name": "stderr",
          "text": [
            "Epoch[294/3000]: 100%|██████████| 10/10 [00:00<00:00, 141.09it/s, loss=227]\n"
          ]
        },
        {
          "output_type": "stream",
          "name": "stdout",
          "text": [
            "Epoch [294/3000]: Train loss: 201.2707, Valid loss: 200.1722\n"
          ]
        },
        {
          "output_type": "stream",
          "name": "stderr",
          "text": [
            "Epoch[295/3000]: 100%|██████████| 10/10 [00:00<00:00, 135.10it/s, loss=261]\n"
          ]
        },
        {
          "output_type": "stream",
          "name": "stdout",
          "text": [
            "Epoch [295/3000]: Train loss: 202.9232, Valid loss: 200.7254\n"
          ]
        },
        {
          "output_type": "stream",
          "name": "stderr",
          "text": [
            "Epoch[296/3000]: 100%|██████████| 10/10 [00:00<00:00, 133.96it/s, loss=189]\n"
          ]
        },
        {
          "output_type": "stream",
          "name": "stdout",
          "text": [
            "Epoch [296/3000]: Train loss: 198.2699, Valid loss: 197.5349\n"
          ]
        },
        {
          "output_type": "stream",
          "name": "stderr",
          "text": [
            "Epoch[297/3000]: 100%|██████████| 10/10 [00:00<00:00, 133.90it/s, loss=175]\n"
          ]
        },
        {
          "output_type": "stream",
          "name": "stdout",
          "text": [
            "Epoch [297/3000]: Train loss: 197.0624, Valid loss: 196.6760\n"
          ]
        },
        {
          "output_type": "stream",
          "name": "stderr",
          "text": [
            "Epoch[298/3000]: 100%|██████████| 10/10 [00:00<00:00, 128.31it/s, loss=204]\n"
          ]
        },
        {
          "output_type": "stream",
          "name": "stdout",
          "text": [
            "Epoch [298/3000]: Train loss: 198.4008, Valid loss: 195.8413\n"
          ]
        },
        {
          "output_type": "stream",
          "name": "stderr",
          "text": [
            "Epoch[299/3000]: 100%|██████████| 10/10 [00:00<00:00, 135.20it/s, loss=195]\n"
          ]
        },
        {
          "output_type": "stream",
          "name": "stdout",
          "text": [
            "Epoch [299/3000]: Train loss: 197.4911, Valid loss: 195.4400\n"
          ]
        },
        {
          "output_type": "stream",
          "name": "stderr",
          "text": [
            "Epoch[300/3000]: 100%|██████████| 10/10 [00:00<00:00, 141.38it/s, loss=212]\n"
          ]
        },
        {
          "output_type": "stream",
          "name": "stdout",
          "text": [
            "Epoch [300/3000]: Train loss: 198.1161, Valid loss: 198.2593\n"
          ]
        },
        {
          "output_type": "stream",
          "name": "stderr",
          "text": [
            "Epoch[301/3000]: 100%|██████████| 10/10 [00:00<00:00, 138.65it/s, loss=193]\n"
          ]
        },
        {
          "output_type": "stream",
          "name": "stdout",
          "text": [
            "Epoch [301/3000]: Train loss: 196.6185, Valid loss: 194.8090\n"
          ]
        },
        {
          "output_type": "stream",
          "name": "stderr",
          "text": [
            "Epoch[302/3000]: 100%|██████████| 10/10 [00:00<00:00, 133.83it/s, loss=189]\n"
          ]
        },
        {
          "output_type": "stream",
          "name": "stdout",
          "text": [
            "Epoch [302/3000]: Train loss: 196.0115, Valid loss: 194.2605\n"
          ]
        },
        {
          "output_type": "stream",
          "name": "stderr",
          "text": [
            "Epoch[303/3000]: 100%|██████████| 10/10 [00:00<00:00, 125.52it/s, loss=217]\n"
          ]
        },
        {
          "output_type": "stream",
          "name": "stdout",
          "text": [
            "Epoch [303/3000]: Train loss: 197.3456, Valid loss: 196.8628\n"
          ]
        },
        {
          "output_type": "stream",
          "name": "stderr",
          "text": [
            "Epoch[304/3000]: 100%|██████████| 10/10 [00:00<00:00, 130.66it/s, loss=194]\n"
          ]
        },
        {
          "output_type": "stream",
          "name": "stdout",
          "text": [
            "Epoch [304/3000]: Train loss: 195.6055, Valid loss: 196.1231\n"
          ]
        },
        {
          "output_type": "stream",
          "name": "stderr",
          "text": [
            "Epoch[305/3000]: 100%|██████████| 10/10 [00:00<00:00, 134.89it/s, loss=206]\n"
          ]
        },
        {
          "output_type": "stream",
          "name": "stdout",
          "text": [
            "Epoch [305/3000]: Train loss: 195.9573, Valid loss: 196.4725\n"
          ]
        },
        {
          "output_type": "stream",
          "name": "stderr",
          "text": [
            "Epoch[306/3000]: 100%|██████████| 10/10 [00:00<00:00, 118.68it/s, loss=201]\n"
          ]
        },
        {
          "output_type": "stream",
          "name": "stdout",
          "text": [
            "Epoch [306/3000]: Train loss: 195.3044, Valid loss: 194.8760\n"
          ]
        },
        {
          "output_type": "stream",
          "name": "stderr",
          "text": [
            "Epoch[307/3000]: 100%|██████████| 10/10 [00:00<00:00, 122.32it/s, loss=189]\n"
          ]
        },
        {
          "output_type": "stream",
          "name": "stdout",
          "text": [
            "Epoch [307/3000]: Train loss: 194.2318, Valid loss: 192.7455\n"
          ]
        },
        {
          "output_type": "stream",
          "name": "stderr",
          "text": [
            "Epoch[308/3000]: 100%|██████████| 10/10 [00:00<00:00, 102.71it/s, loss=220]\n"
          ]
        },
        {
          "output_type": "stream",
          "name": "stdout",
          "text": [
            "Epoch [308/3000]: Train loss: 195.6837, Valid loss: 196.8068\n"
          ]
        },
        {
          "output_type": "stream",
          "name": "stderr",
          "text": [
            "Epoch[309/3000]: 100%|██████████| 10/10 [00:00<00:00, 115.24it/s, loss=137]\n"
          ]
        },
        {
          "output_type": "stream",
          "name": "stdout",
          "text": [
            "Epoch [309/3000]: Train loss: 190.4322, Valid loss: 188.8253\n"
          ]
        },
        {
          "output_type": "stream",
          "name": "stderr",
          "text": [
            "Epoch[310/3000]: 100%|██████████| 10/10 [00:00<00:00, 109.76it/s, loss=191]\n"
          ]
        },
        {
          "output_type": "stream",
          "name": "stdout",
          "text": [
            "Epoch [310/3000]: Train loss: 193.2486, Valid loss: 193.0455\n"
          ]
        },
        {
          "output_type": "stream",
          "name": "stderr",
          "text": [
            "Epoch[311/3000]: 100%|██████████| 10/10 [00:00<00:00, 122.17it/s, loss=273]\n"
          ]
        },
        {
          "output_type": "stream",
          "name": "stdout",
          "text": [
            "Epoch [311/3000]: Train loss: 197.7691, Valid loss: 195.4410\n"
          ]
        },
        {
          "output_type": "stream",
          "name": "stderr",
          "text": [
            "Epoch[312/3000]: 100%|██████████| 10/10 [00:00<00:00, 114.59it/s, loss=196]\n"
          ]
        },
        {
          "output_type": "stream",
          "name": "stdout",
          "text": [
            "Epoch [312/3000]: Train loss: 192.8428, Valid loss: 193.1089\n"
          ]
        },
        {
          "output_type": "stream",
          "name": "stderr",
          "text": [
            "Epoch[313/3000]: 100%|██████████| 10/10 [00:00<00:00, 108.31it/s, loss=154]\n"
          ]
        },
        {
          "output_type": "stream",
          "name": "stdout",
          "text": [
            "Epoch [313/3000]: Train loss: 190.0004, Valid loss: 190.8967\n"
          ]
        },
        {
          "output_type": "stream",
          "name": "stderr",
          "text": [
            "Epoch[314/3000]: 100%|██████████| 10/10 [00:00<00:00, 113.39it/s, loss=202]\n"
          ]
        },
        {
          "output_type": "stream",
          "name": "stdout",
          "text": [
            "Epoch [314/3000]: Train loss: 192.5070, Valid loss: 194.9216\n"
          ]
        },
        {
          "output_type": "stream",
          "name": "stderr",
          "text": [
            "Epoch[315/3000]: 100%|██████████| 10/10 [00:00<00:00, 125.64it/s, loss=191]\n"
          ]
        },
        {
          "output_type": "stream",
          "name": "stdout",
          "text": [
            "Epoch [315/3000]: Train loss: 191.4582, Valid loss: 191.4522\n"
          ]
        },
        {
          "output_type": "stream",
          "name": "stderr",
          "text": [
            "Epoch[316/3000]: 100%|██████████| 10/10 [00:00<00:00, 115.04it/s, loss=229]\n"
          ]
        },
        {
          "output_type": "stream",
          "name": "stdout",
          "text": [
            "Epoch [316/3000]: Train loss: 193.3662, Valid loss: 192.9353\n"
          ]
        },
        {
          "output_type": "stream",
          "name": "stderr",
          "text": [
            "Epoch[317/3000]: 100%|██████████| 10/10 [00:00<00:00, 123.23it/s, loss=221]\n"
          ]
        },
        {
          "output_type": "stream",
          "name": "stdout",
          "text": [
            "Epoch [317/3000]: Train loss: 192.5820, Valid loss: 191.4925\n"
          ]
        },
        {
          "output_type": "stream",
          "name": "stderr",
          "text": [
            "Epoch[318/3000]: 100%|██████████| 10/10 [00:00<00:00, 112.36it/s, loss=222]\n"
          ]
        },
        {
          "output_type": "stream",
          "name": "stdout",
          "text": [
            "Epoch [318/3000]: Train loss: 192.2944, Valid loss: 191.5922\n"
          ]
        },
        {
          "output_type": "stream",
          "name": "stderr",
          "text": [
            "Epoch[319/3000]: 100%|██████████| 10/10 [00:00<00:00, 103.92it/s, loss=208]\n"
          ]
        },
        {
          "output_type": "stream",
          "name": "stdout",
          "text": [
            "Epoch [319/3000]: Train loss: 191.0785, Valid loss: 190.1298\n"
          ]
        },
        {
          "output_type": "stream",
          "name": "stderr",
          "text": [
            "Epoch[320/3000]: 100%|██████████| 10/10 [00:00<00:00, 119.84it/s, loss=168]\n"
          ]
        },
        {
          "output_type": "stream",
          "name": "stdout",
          "text": [
            "Epoch [320/3000]: Train loss: 188.3645, Valid loss: 187.0877\n"
          ]
        },
        {
          "output_type": "stream",
          "name": "stderr",
          "text": [
            "Epoch[321/3000]: 100%|██████████| 10/10 [00:00<00:00, 111.77it/s, loss=156]\n"
          ]
        },
        {
          "output_type": "stream",
          "name": "stdout",
          "text": [
            "Epoch [321/3000]: Train loss: 187.3267, Valid loss: 186.2188\n"
          ]
        },
        {
          "output_type": "stream",
          "name": "stderr",
          "text": [
            "Epoch[322/3000]: 100%|██████████| 10/10 [00:00<00:00, 133.51it/s, loss=211]\n"
          ]
        },
        {
          "output_type": "stream",
          "name": "stdout",
          "text": [
            "Epoch [322/3000]: Train loss: 190.2375, Valid loss: 188.5077\n"
          ]
        },
        {
          "output_type": "stream",
          "name": "stderr",
          "text": [
            "Epoch[323/3000]: 100%|██████████| 10/10 [00:00<00:00, 115.05it/s, loss=202]\n"
          ]
        },
        {
          "output_type": "stream",
          "name": "stdout",
          "text": [
            "Epoch [323/3000]: Train loss: 189.3593, Valid loss: 190.6848\n"
          ]
        },
        {
          "output_type": "stream",
          "name": "stderr",
          "text": [
            "Epoch[324/3000]: 100%|██████████| 10/10 [00:00<00:00, 122.04it/s, loss=168]\n"
          ]
        },
        {
          "output_type": "stream",
          "name": "stdout",
          "text": [
            "Epoch [324/3000]: Train loss: 187.0285, Valid loss: 185.4913\n"
          ]
        },
        {
          "output_type": "stream",
          "name": "stderr",
          "text": [
            "Epoch[325/3000]: 100%|██████████| 10/10 [00:00<00:00, 142.92it/s, loss=226]\n"
          ]
        },
        {
          "output_type": "stream",
          "name": "stdout",
          "text": [
            "Epoch [325/3000]: Train loss: 190.1436, Valid loss: 188.8903\n"
          ]
        },
        {
          "output_type": "stream",
          "name": "stderr",
          "text": [
            "Epoch[326/3000]: 100%|██████████| 10/10 [00:00<00:00, 106.54it/s, loss=243]\n"
          ]
        },
        {
          "output_type": "stream",
          "name": "stdout",
          "text": [
            "Epoch [326/3000]: Train loss: 190.7867, Valid loss: 187.7606\n"
          ]
        },
        {
          "output_type": "stream",
          "name": "stderr",
          "text": [
            "Epoch[327/3000]: 100%|██████████| 10/10 [00:00<00:00, 134.67it/s, loss=221]\n"
          ]
        },
        {
          "output_type": "stream",
          "name": "stdout",
          "text": [
            "Epoch [327/3000]: Train loss: 189.1376, Valid loss: 189.5518\n"
          ]
        },
        {
          "output_type": "stream",
          "name": "stderr",
          "text": [
            "Epoch[328/3000]: 100%|██████████| 10/10 [00:00<00:00, 129.17it/s, loss=149]\n"
          ]
        },
        {
          "output_type": "stream",
          "name": "stdout",
          "text": [
            "Epoch [328/3000]: Train loss: 184.5779, Valid loss: 184.4273\n"
          ]
        },
        {
          "output_type": "stream",
          "name": "stderr",
          "text": [
            "Epoch[329/3000]: 100%|██████████| 10/10 [00:00<00:00, 114.76it/s, loss=174]\n"
          ]
        },
        {
          "output_type": "stream",
          "name": "stdout",
          "text": [
            "Epoch [329/3000]: Train loss: 185.7071, Valid loss: 182.6173\n"
          ]
        },
        {
          "output_type": "stream",
          "name": "stderr",
          "text": [
            "Epoch[330/3000]: 100%|██████████| 10/10 [00:00<00:00, 122.59it/s, loss=191]\n"
          ]
        },
        {
          "output_type": "stream",
          "name": "stdout",
          "text": [
            "Epoch [330/3000]: Train loss: 186.3802, Valid loss: 184.9743\n"
          ]
        },
        {
          "output_type": "stream",
          "name": "stderr",
          "text": [
            "Epoch[331/3000]: 100%|██████████| 10/10 [00:00<00:00, 119.16it/s, loss=140]\n"
          ]
        },
        {
          "output_type": "stream",
          "name": "stdout",
          "text": [
            "Epoch [331/3000]: Train loss: 183.0177, Valid loss: 180.5876\n"
          ]
        },
        {
          "output_type": "stream",
          "name": "stderr",
          "text": [
            "Epoch[332/3000]: 100%|██████████| 10/10 [00:00<00:00, 120.42it/s, loss=178]\n"
          ]
        },
        {
          "output_type": "stream",
          "name": "stdout",
          "text": [
            "Epoch [332/3000]: Train loss: 184.9797, Valid loss: 183.3782\n"
          ]
        },
        {
          "output_type": "stream",
          "name": "stderr",
          "text": [
            "Epoch[333/3000]: 100%|██████████| 10/10 [00:00<00:00, 125.36it/s, loss=189]\n"
          ]
        },
        {
          "output_type": "stream",
          "name": "stdout",
          "text": [
            "Epoch [333/3000]: Train loss: 185.2929, Valid loss: 183.3346\n"
          ]
        },
        {
          "output_type": "stream",
          "name": "stderr",
          "text": [
            "Epoch[334/3000]: 100%|██████████| 10/10 [00:00<00:00, 113.93it/s, loss=216]\n"
          ]
        },
        {
          "output_type": "stream",
          "name": "stdout",
          "text": [
            "Epoch [334/3000]: Train loss: 186.5398, Valid loss: 185.4244\n"
          ]
        },
        {
          "output_type": "stream",
          "name": "stderr",
          "text": [
            "Epoch[335/3000]: 100%|██████████| 10/10 [00:00<00:00, 118.28it/s, loss=156]\n"
          ]
        },
        {
          "output_type": "stream",
          "name": "stdout",
          "text": [
            "Epoch [335/3000]: Train loss: 182.7036, Valid loss: 180.8229\n"
          ]
        },
        {
          "output_type": "stream",
          "name": "stderr",
          "text": [
            "Epoch[336/3000]: 100%|██████████| 10/10 [00:00<00:00, 125.38it/s, loss=193]\n"
          ]
        },
        {
          "output_type": "stream",
          "name": "stdout",
          "text": [
            "Epoch [336/3000]: Train loss: 184.5691, Valid loss: 181.5472\n"
          ]
        },
        {
          "output_type": "stream",
          "name": "stderr",
          "text": [
            "Epoch[337/3000]: 100%|██████████| 10/10 [00:00<00:00, 121.20it/s, loss=238]\n"
          ]
        },
        {
          "output_type": "stream",
          "name": "stdout",
          "text": [
            "Epoch [337/3000]: Train loss: 186.9122, Valid loss: 186.2411\n"
          ]
        },
        {
          "output_type": "stream",
          "name": "stderr",
          "text": [
            "Epoch[338/3000]: 100%|██████████| 10/10 [00:00<00:00, 124.87it/s, loss=172]\n"
          ]
        },
        {
          "output_type": "stream",
          "name": "stdout",
          "text": [
            "Epoch [338/3000]: Train loss: 182.6593, Valid loss: 181.9924\n"
          ]
        },
        {
          "output_type": "stream",
          "name": "stderr",
          "text": [
            "Epoch[339/3000]: 100%|██████████| 10/10 [00:00<00:00, 116.42it/s, loss=188]\n"
          ]
        },
        {
          "output_type": "stream",
          "name": "stdout",
          "text": [
            "Epoch [339/3000]: Train loss: 183.2751, Valid loss: 182.7938\n"
          ]
        },
        {
          "output_type": "stream",
          "name": "stderr",
          "text": [
            "Epoch[340/3000]: 100%|██████████| 10/10 [00:00<00:00, 93.58it/s, loss=160]\n"
          ]
        },
        {
          "output_type": "stream",
          "name": "stdout",
          "text": [
            "Epoch [340/3000]: Train loss: 181.3184, Valid loss: 180.8645\n"
          ]
        },
        {
          "output_type": "stream",
          "name": "stderr",
          "text": [
            "Epoch[341/3000]: 100%|██████████| 10/10 [00:00<00:00, 123.43it/s, loss=174]\n"
          ]
        },
        {
          "output_type": "stream",
          "name": "stdout",
          "text": [
            "Epoch [341/3000]: Train loss: 181.8264, Valid loss: 181.9405\n"
          ]
        },
        {
          "output_type": "stream",
          "name": "stderr",
          "text": [
            "Epoch[342/3000]: 100%|██████████| 10/10 [00:00<00:00, 119.54it/s, loss=148]\n"
          ]
        },
        {
          "output_type": "stream",
          "name": "stdout",
          "text": [
            "Epoch [342/3000]: Train loss: 179.9881, Valid loss: 178.4981\n"
          ]
        },
        {
          "output_type": "stream",
          "name": "stderr",
          "text": [
            "Epoch[343/3000]: 100%|██████████| 10/10 [00:00<00:00, 117.56it/s, loss=163]\n"
          ]
        },
        {
          "output_type": "stream",
          "name": "stdout",
          "text": [
            "Epoch [343/3000]: Train loss: 180.5275, Valid loss: 180.1642\n"
          ]
        },
        {
          "output_type": "stream",
          "name": "stderr",
          "text": [
            "Epoch[344/3000]: 100%|██████████| 10/10 [00:00<00:00, 126.41it/s, loss=193]\n"
          ]
        },
        {
          "output_type": "stream",
          "name": "stdout",
          "text": [
            "Epoch [344/3000]: Train loss: 182.0077, Valid loss: 181.7745\n"
          ]
        },
        {
          "output_type": "stream",
          "name": "stderr",
          "text": [
            "Epoch[345/3000]: 100%|██████████| 10/10 [00:00<00:00, 111.35it/s, loss=164]\n"
          ]
        },
        {
          "output_type": "stream",
          "name": "stdout",
          "text": [
            "Epoch [345/3000]: Train loss: 180.0076, Valid loss: 179.9188\n"
          ]
        },
        {
          "output_type": "stream",
          "name": "stderr",
          "text": [
            "Epoch[346/3000]: 100%|██████████| 10/10 [00:00<00:00, 122.33it/s, loss=174]\n"
          ]
        },
        {
          "output_type": "stream",
          "name": "stdout",
          "text": [
            "Epoch [346/3000]: Train loss: 180.2497, Valid loss: 180.7348\n"
          ]
        },
        {
          "output_type": "stream",
          "name": "stderr",
          "text": [
            "Epoch[347/3000]: 100%|██████████| 10/10 [00:00<00:00, 119.53it/s, loss=193]\n"
          ]
        },
        {
          "output_type": "stream",
          "name": "stdout",
          "text": [
            "Epoch [347/3000]: Train loss: 181.1191, Valid loss: 179.3122\n"
          ]
        },
        {
          "output_type": "stream",
          "name": "stderr",
          "text": [
            "Epoch[348/3000]: 100%|██████████| 10/10 [00:00<00:00, 114.19it/s, loss=140]\n"
          ]
        },
        {
          "output_type": "stream",
          "name": "stdout",
          "text": [
            "Epoch [348/3000]: Train loss: 177.6156, Valid loss: 177.5550\n"
          ]
        },
        {
          "output_type": "stream",
          "name": "stderr",
          "text": [
            "Epoch[349/3000]: 100%|██████████| 10/10 [00:00<00:00, 130.09it/s, loss=216]\n"
          ]
        },
        {
          "output_type": "stream",
          "name": "stdout",
          "text": [
            "Epoch [349/3000]: Train loss: 181.8595, Valid loss: 180.1646\n"
          ]
        },
        {
          "output_type": "stream",
          "name": "stderr",
          "text": [
            "Epoch[350/3000]: 100%|██████████| 10/10 [00:00<00:00, 107.66it/s, loss=199]\n"
          ]
        },
        {
          "output_type": "stream",
          "name": "stdout",
          "text": [
            "Epoch [350/3000]: Train loss: 180.5112, Valid loss: 180.0282\n"
          ]
        },
        {
          "output_type": "stream",
          "name": "stderr",
          "text": [
            "Epoch[351/3000]: 100%|██████████| 10/10 [00:00<00:00, 108.63it/s, loss=213]\n"
          ]
        },
        {
          "output_type": "stream",
          "name": "stdout",
          "text": [
            "Epoch [351/3000]: Train loss: 181.0561, Valid loss: 180.5042\n"
          ]
        },
        {
          "output_type": "stream",
          "name": "stderr",
          "text": [
            "Epoch[352/3000]: 100%|██████████| 10/10 [00:00<00:00, 117.90it/s, loss=145]\n"
          ]
        },
        {
          "output_type": "stream",
          "name": "stdout",
          "text": [
            "Epoch [352/3000]: Train loss: 176.7310, Valid loss: 174.3231\n"
          ]
        },
        {
          "output_type": "stream",
          "name": "stderr",
          "text": [
            "Epoch[353/3000]: 100%|██████████| 10/10 [00:00<00:00, 129.53it/s, loss=200]\n"
          ]
        },
        {
          "output_type": "stream",
          "name": "stdout",
          "text": [
            "Epoch [353/3000]: Train loss: 179.7067, Valid loss: 178.8934\n"
          ]
        },
        {
          "output_type": "stream",
          "name": "stderr",
          "text": [
            "Epoch[354/3000]: 100%|██████████| 10/10 [00:00<00:00, 120.42it/s, loss=130]\n"
          ]
        },
        {
          "output_type": "stream",
          "name": "stdout",
          "text": [
            "Epoch [354/3000]: Train loss: 175.2185, Valid loss: 176.4939\n"
          ]
        },
        {
          "output_type": "stream",
          "name": "stderr",
          "text": [
            "Epoch[355/3000]: 100%|██████████| 10/10 [00:00<00:00, 122.00it/s, loss=161]\n"
          ]
        },
        {
          "output_type": "stream",
          "name": "stdout",
          "text": [
            "Epoch [355/3000]: Train loss: 176.7567, Valid loss: 176.1310\n"
          ]
        },
        {
          "output_type": "stream",
          "name": "stderr",
          "text": [
            "Epoch[356/3000]: 100%|██████████| 10/10 [00:00<00:00, 102.50it/s, loss=214]\n"
          ]
        },
        {
          "output_type": "stream",
          "name": "stdout",
          "text": [
            "Epoch [356/3000]: Train loss: 179.6496, Valid loss: 177.6633\n"
          ]
        },
        {
          "output_type": "stream",
          "name": "stderr",
          "text": [
            "Epoch[357/3000]: 100%|██████████| 10/10 [00:00<00:00, 94.83it/s, loss=207]\n"
          ]
        },
        {
          "output_type": "stream",
          "name": "stdout",
          "text": [
            "Epoch [357/3000]: Train loss: 178.9119, Valid loss: 180.5687\n"
          ]
        },
        {
          "output_type": "stream",
          "name": "stderr",
          "text": [
            "Epoch[358/3000]: 100%|██████████| 10/10 [00:00<00:00, 125.71it/s, loss=131]\n"
          ]
        },
        {
          "output_type": "stream",
          "name": "stdout",
          "text": [
            "Epoch [358/3000]: Train loss: 174.1016, Valid loss: 174.1744\n"
          ]
        },
        {
          "output_type": "stream",
          "name": "stderr",
          "text": [
            "Epoch[359/3000]: 100%|██████████| 10/10 [00:00<00:00, 125.82it/s, loss=211]\n"
          ]
        },
        {
          "output_type": "stream",
          "name": "stdout",
          "text": [
            "Epoch [359/3000]: Train loss: 178.5458, Valid loss: 177.5563\n"
          ]
        },
        {
          "output_type": "stream",
          "name": "stderr",
          "text": [
            "Epoch[360/3000]: 100%|██████████| 10/10 [00:00<00:00, 128.44it/s, loss=146]\n"
          ]
        },
        {
          "output_type": "stream",
          "name": "stdout",
          "text": [
            "Epoch [360/3000]: Train loss: 174.4214, Valid loss: 173.5332\n"
          ]
        },
        {
          "output_type": "stream",
          "name": "stderr",
          "text": [
            "Epoch[361/3000]: 100%|██████████| 10/10 [00:00<00:00, 112.61it/s, loss=168]\n"
          ]
        },
        {
          "output_type": "stream",
          "name": "stdout",
          "text": [
            "Epoch [361/3000]: Train loss: 175.4065, Valid loss: 176.3251\n"
          ]
        },
        {
          "output_type": "stream",
          "name": "stderr",
          "text": [
            "Epoch[362/3000]: 100%|██████████| 10/10 [00:00<00:00, 117.14it/s, loss=197]\n"
          ]
        },
        {
          "output_type": "stream",
          "name": "stdout",
          "text": [
            "Epoch [362/3000]: Train loss: 176.8767, Valid loss: 175.8743\n"
          ]
        },
        {
          "output_type": "stream",
          "name": "stderr",
          "text": [
            "Epoch[363/3000]: 100%|██████████| 10/10 [00:00<00:00, 120.11it/s, loss=167]\n"
          ]
        },
        {
          "output_type": "stream",
          "name": "stdout",
          "text": [
            "Epoch [363/3000]: Train loss: 174.8058, Valid loss: 174.1812\n"
          ]
        },
        {
          "output_type": "stream",
          "name": "stderr",
          "text": [
            "Epoch[364/3000]: 100%|██████████| 10/10 [00:00<00:00, 116.14it/s, loss=190]\n"
          ]
        },
        {
          "output_type": "stream",
          "name": "stdout",
          "text": [
            "Epoch [364/3000]: Train loss: 175.8482, Valid loss: 174.2591\n"
          ]
        },
        {
          "output_type": "stream",
          "name": "stderr",
          "text": [
            "Epoch[365/3000]: 100%|██████████| 10/10 [00:00<00:00, 123.61it/s, loss=207]\n"
          ]
        },
        {
          "output_type": "stream",
          "name": "stdout",
          "text": [
            "Epoch [365/3000]: Train loss: 176.5620, Valid loss: 173.0759\n"
          ]
        },
        {
          "output_type": "stream",
          "name": "stderr",
          "text": [
            "Epoch[366/3000]: 100%|██████████| 10/10 [00:00<00:00, 116.81it/s, loss=178]\n"
          ]
        },
        {
          "output_type": "stream",
          "name": "stdout",
          "text": [
            "Epoch [366/3000]: Train loss: 174.5852, Valid loss: 172.6619\n"
          ]
        },
        {
          "output_type": "stream",
          "name": "stderr",
          "text": [
            "Epoch[367/3000]: 100%|██████████| 10/10 [00:00<00:00, 112.04it/s, loss=146]\n"
          ]
        },
        {
          "output_type": "stream",
          "name": "stdout",
          "text": [
            "Epoch [367/3000]: Train loss: 172.4161, Valid loss: 170.1754\n"
          ]
        },
        {
          "output_type": "stream",
          "name": "stderr",
          "text": [
            "Epoch[368/3000]: 100%|██████████| 10/10 [00:00<00:00, 114.25it/s, loss=157]\n"
          ]
        },
        {
          "output_type": "stream",
          "name": "stdout",
          "text": [
            "Epoch [368/3000]: Train loss: 172.7523, Valid loss: 171.5300\n"
          ]
        },
        {
          "output_type": "stream",
          "name": "stderr",
          "text": [
            "Epoch[369/3000]: 100%|██████████| 10/10 [00:00<00:00, 128.41it/s, loss=230]\n"
          ]
        },
        {
          "output_type": "stream",
          "name": "stdout",
          "text": [
            "Epoch [369/3000]: Train loss: 176.8067, Valid loss: 174.1589\n"
          ]
        },
        {
          "output_type": "stream",
          "name": "stderr",
          "text": [
            "Epoch[370/3000]: 100%|██████████| 10/10 [00:00<00:00, 111.67it/s, loss=166]\n"
          ]
        },
        {
          "output_type": "stream",
          "name": "stdout",
          "text": [
            "Epoch [370/3000]: Train loss: 172.7507, Valid loss: 170.8267\n"
          ]
        },
        {
          "output_type": "stream",
          "name": "stderr",
          "text": [
            "Epoch[371/3000]: 100%|██████████| 10/10 [00:00<00:00, 117.38it/s, loss=185]\n"
          ]
        },
        {
          "output_type": "stream",
          "name": "stdout",
          "text": [
            "Epoch [371/3000]: Train loss: 173.5912, Valid loss: 171.1510\n"
          ]
        },
        {
          "output_type": "stream",
          "name": "stderr",
          "text": [
            "Epoch[372/3000]: 100%|██████████| 10/10 [00:00<00:00, 120.24it/s, loss=131]\n"
          ]
        },
        {
          "output_type": "stream",
          "name": "stdout",
          "text": [
            "Epoch [372/3000]: Train loss: 170.0644, Valid loss: 170.9952\n"
          ]
        },
        {
          "output_type": "stream",
          "name": "stderr",
          "text": [
            "Epoch[373/3000]: 100%|██████████| 10/10 [00:00<00:00, 113.92it/s, loss=137]\n"
          ]
        },
        {
          "output_type": "stream",
          "name": "stdout",
          "text": [
            "Epoch [373/3000]: Train loss: 170.1896, Valid loss: 169.8363\n"
          ]
        },
        {
          "output_type": "stream",
          "name": "stderr",
          "text": [
            "Epoch[374/3000]: 100%|██████████| 10/10 [00:00<00:00, 124.94it/s, loss=186]\n"
          ]
        },
        {
          "output_type": "stream",
          "name": "stdout",
          "text": [
            "Epoch [374/3000]: Train loss: 172.7972, Valid loss: 171.8731\n"
          ]
        },
        {
          "output_type": "stream",
          "name": "stderr",
          "text": [
            "Epoch[375/3000]: 100%|██████████| 10/10 [00:00<00:00, 127.08it/s, loss=177]\n"
          ]
        },
        {
          "output_type": "stream",
          "name": "stdout",
          "text": [
            "Epoch [375/3000]: Train loss: 171.9795, Valid loss: 171.5150\n"
          ]
        },
        {
          "output_type": "stream",
          "name": "stderr",
          "text": [
            "Epoch[376/3000]: 100%|██████████| 10/10 [00:00<00:00, 121.59it/s, loss=119]\n"
          ]
        },
        {
          "output_type": "stream",
          "name": "stdout",
          "text": [
            "Epoch [376/3000]: Train loss: 168.2957, Valid loss: 168.1641\n"
          ]
        },
        {
          "output_type": "stream",
          "name": "stderr",
          "text": [
            "Epoch[377/3000]: 100%|██████████| 10/10 [00:00<00:00, 122.28it/s, loss=152]\n"
          ]
        },
        {
          "output_type": "stream",
          "name": "stdout",
          "text": [
            "Epoch [377/3000]: Train loss: 169.9878, Valid loss: 170.7487\n"
          ]
        },
        {
          "output_type": "stream",
          "name": "stderr",
          "text": [
            "Epoch[378/3000]: 100%|██████████| 10/10 [00:00<00:00, 127.67it/s, loss=176]\n"
          ]
        },
        {
          "output_type": "stream",
          "name": "stdout",
          "text": [
            "Epoch [378/3000]: Train loss: 171.1244, Valid loss: 170.9985\n"
          ]
        },
        {
          "output_type": "stream",
          "name": "stderr",
          "text": [
            "Epoch[379/3000]: 100%|██████████| 10/10 [00:00<00:00, 118.54it/s, loss=157]\n"
          ]
        },
        {
          "output_type": "stream",
          "name": "stdout",
          "text": [
            "Epoch [379/3000]: Train loss: 169.7051, Valid loss: 172.4048\n"
          ]
        },
        {
          "output_type": "stream",
          "name": "stderr",
          "text": [
            "Epoch[380/3000]: 100%|██████████| 10/10 [00:00<00:00, 116.50it/s, loss=212]\n"
          ]
        },
        {
          "output_type": "stream",
          "name": "stdout",
          "text": [
            "Epoch [380/3000]: Train loss: 172.7068, Valid loss: 171.3645\n"
          ]
        },
        {
          "output_type": "stream",
          "name": "stderr",
          "text": [
            "Epoch[381/3000]: 100%|██████████| 10/10 [00:00<00:00, 115.73it/s, loss=154]\n"
          ]
        },
        {
          "output_type": "stream",
          "name": "stdout",
          "text": [
            "Epoch [381/3000]: Train loss: 168.9940, Valid loss: 167.7235\n"
          ]
        },
        {
          "output_type": "stream",
          "name": "stderr",
          "text": [
            "Epoch[382/3000]: 100%|██████████| 10/10 [00:00<00:00, 126.52it/s, loss=156]\n"
          ]
        },
        {
          "output_type": "stream",
          "name": "stdout",
          "text": [
            "Epoch [382/3000]: Train loss: 168.8632, Valid loss: 168.3986\n"
          ]
        },
        {
          "output_type": "stream",
          "name": "stderr",
          "text": [
            "Epoch[383/3000]: 100%|██████████| 10/10 [00:00<00:00, 102.82it/s, loss=154]\n"
          ]
        },
        {
          "output_type": "stream",
          "name": "stdout",
          "text": [
            "Epoch [383/3000]: Train loss: 168.4602, Valid loss: 166.9975\n"
          ]
        },
        {
          "output_type": "stream",
          "name": "stderr",
          "text": [
            "Epoch[384/3000]: 100%|██████████| 10/10 [00:00<00:00, 112.54it/s, loss=184]\n"
          ]
        },
        {
          "output_type": "stream",
          "name": "stdout",
          "text": [
            "Epoch [384/3000]: Train loss: 169.9613, Valid loss: 170.3080\n"
          ]
        },
        {
          "output_type": "stream",
          "name": "stderr",
          "text": [
            "Epoch[385/3000]: 100%|██████████| 10/10 [00:00<00:00, 121.10it/s, loss=185]\n"
          ]
        },
        {
          "output_type": "stream",
          "name": "stdout",
          "text": [
            "Epoch [385/3000]: Train loss: 169.7868, Valid loss: 172.8916\n"
          ]
        },
        {
          "output_type": "stream",
          "name": "stderr",
          "text": [
            "Epoch[386/3000]: 100%|██████████| 10/10 [00:00<00:00, 119.49it/s, loss=209]\n"
          ]
        },
        {
          "output_type": "stream",
          "name": "stdout",
          "text": [
            "Epoch [386/3000]: Train loss: 170.9330, Valid loss: 169.9438\n"
          ]
        },
        {
          "output_type": "stream",
          "name": "stderr",
          "text": [
            "Epoch[387/3000]: 100%|██████████| 10/10 [00:00<00:00, 110.24it/s, loss=134]\n"
          ]
        },
        {
          "output_type": "stream",
          "name": "stdout",
          "text": [
            "Epoch [387/3000]: Train loss: 166.2021, Valid loss: 169.0721\n"
          ]
        },
        {
          "output_type": "stream",
          "name": "stderr",
          "text": [
            "Epoch[388/3000]: 100%|██████████| 10/10 [00:00<00:00, 122.11it/s, loss=181]\n"
          ]
        },
        {
          "output_type": "stream",
          "name": "stdout",
          "text": [
            "Epoch [388/3000]: Train loss: 168.7258, Valid loss: 169.1561\n"
          ]
        },
        {
          "output_type": "stream",
          "name": "stderr",
          "text": [
            "Epoch[389/3000]: 100%|██████████| 10/10 [00:00<00:00, 110.26it/s, loss=174]\n"
          ]
        },
        {
          "output_type": "stream",
          "name": "stdout",
          "text": [
            "Epoch [389/3000]: Train loss: 168.0528, Valid loss: 166.7307\n"
          ]
        },
        {
          "output_type": "stream",
          "name": "stderr",
          "text": [
            "Epoch[390/3000]: 100%|██████████| 10/10 [00:00<00:00, 119.10it/s, loss=160]\n"
          ]
        },
        {
          "output_type": "stream",
          "name": "stdout",
          "text": [
            "Epoch [390/3000]: Train loss: 166.9644, Valid loss: 166.3765\n"
          ]
        },
        {
          "output_type": "stream",
          "name": "stderr",
          "text": [
            "Epoch[391/3000]: 100%|██████████| 10/10 [00:00<00:00, 103.94it/s, loss=162]\n"
          ]
        },
        {
          "output_type": "stream",
          "name": "stdout",
          "text": [
            "Epoch [391/3000]: Train loss: 166.8586, Valid loss: 166.5341\n"
          ]
        },
        {
          "output_type": "stream",
          "name": "stderr",
          "text": [
            "Epoch[392/3000]: 100%|██████████| 10/10 [00:00<00:00, 115.79it/s, loss=180]\n"
          ]
        },
        {
          "output_type": "stream",
          "name": "stdout",
          "text": [
            "Epoch [392/3000]: Train loss: 167.6298, Valid loss: 166.5335\n"
          ]
        },
        {
          "output_type": "stream",
          "name": "stderr",
          "text": [
            "Epoch[393/3000]: 100%|██████████| 10/10 [00:00<00:00, 116.16it/s, loss=135]\n"
          ]
        },
        {
          "output_type": "stream",
          "name": "stdout",
          "text": [
            "Epoch [393/3000]: Train loss: 164.7277, Valid loss: 166.0271\n"
          ]
        },
        {
          "output_type": "stream",
          "name": "stderr",
          "text": [
            "Epoch[394/3000]: 100%|██████████| 10/10 [00:00<00:00, 120.18it/s, loss=163]\n"
          ]
        },
        {
          "output_type": "stream",
          "name": "stdout",
          "text": [
            "Epoch [394/3000]: Train loss: 166.1307, Valid loss: 166.9543\n"
          ]
        },
        {
          "output_type": "stream",
          "name": "stderr",
          "text": [
            "Epoch[395/3000]: 100%|██████████| 10/10 [00:00<00:00, 119.49it/s, loss=153]\n"
          ]
        },
        {
          "output_type": "stream",
          "name": "stdout",
          "text": [
            "Epoch [395/3000]: Train loss: 165.2743, Valid loss: 165.1598\n"
          ]
        },
        {
          "output_type": "stream",
          "name": "stderr",
          "text": [
            "Epoch[396/3000]: 100%|██████████| 10/10 [00:00<00:00, 116.85it/s, loss=154]\n"
          ]
        },
        {
          "output_type": "stream",
          "name": "stdout",
          "text": [
            "Epoch [396/3000]: Train loss: 165.0889, Valid loss: 167.3655\n"
          ]
        },
        {
          "output_type": "stream",
          "name": "stderr",
          "text": [
            "Epoch[397/3000]: 100%|██████████| 10/10 [00:00<00:00, 108.90it/s, loss=154]\n"
          ]
        },
        {
          "output_type": "stream",
          "name": "stdout",
          "text": [
            "Epoch [397/3000]: Train loss: 164.8668, Valid loss: 165.1603\n"
          ]
        },
        {
          "output_type": "stream",
          "name": "stderr",
          "text": [
            "Epoch[398/3000]: 100%|██████████| 10/10 [00:00<00:00, 83.28it/s, loss=182]\n"
          ]
        },
        {
          "output_type": "stream",
          "name": "stdout",
          "text": [
            "Epoch [398/3000]: Train loss: 166.2700, Valid loss: 165.7523\n"
          ]
        },
        {
          "output_type": "stream",
          "name": "stderr",
          "text": [
            "Epoch[399/3000]: 100%|██████████| 10/10 [00:00<00:00, 111.54it/s, loss=159]\n"
          ]
        },
        {
          "output_type": "stream",
          "name": "stdout",
          "text": [
            "Epoch [399/3000]: Train loss: 164.6209, Valid loss: 162.2541\n"
          ]
        },
        {
          "output_type": "stream",
          "name": "stderr",
          "text": [
            "Epoch[400/3000]: 100%|██████████| 10/10 [00:00<00:00, 115.39it/s, loss=186]\n"
          ]
        },
        {
          "output_type": "stream",
          "name": "stdout",
          "text": [
            "Epoch [400/3000]: Train loss: 165.9696, Valid loss: 165.5838\n"
          ]
        },
        {
          "output_type": "stream",
          "name": "stderr",
          "text": [
            "Epoch[401/3000]: 100%|██████████| 10/10 [00:00<00:00, 101.42it/s, loss=212]\n"
          ]
        },
        {
          "output_type": "stream",
          "name": "stdout",
          "text": [
            "Epoch [401/3000]: Train loss: 167.2821, Valid loss: 165.7864\n"
          ]
        },
        {
          "output_type": "stream",
          "name": "stderr",
          "text": [
            "Epoch[402/3000]: 100%|██████████| 10/10 [00:00<00:00, 24.38it/s, loss=163]\n"
          ]
        },
        {
          "output_type": "stream",
          "name": "stdout",
          "text": [
            "Epoch [402/3000]: Train loss: 164.1158, Valid loss: 163.8810\n"
          ]
        },
        {
          "output_type": "stream",
          "name": "stderr",
          "text": [
            "Epoch[403/3000]: 100%|██████████| 10/10 [00:00<00:00, 118.03it/s, loss=133]\n"
          ]
        },
        {
          "output_type": "stream",
          "name": "stdout",
          "text": [
            "Epoch [403/3000]: Train loss: 162.0693, Valid loss: 161.6318\n"
          ]
        },
        {
          "output_type": "stream",
          "name": "stderr",
          "text": [
            "Epoch[404/3000]: 100%|██████████| 10/10 [00:00<00:00, 110.35it/s, loss=150]\n"
          ]
        },
        {
          "output_type": "stream",
          "name": "stdout",
          "text": [
            "Epoch [404/3000]: Train loss: 162.8810, Valid loss: 164.0960\n"
          ]
        },
        {
          "output_type": "stream",
          "name": "stderr",
          "text": [
            "Epoch[405/3000]: 100%|██████████| 10/10 [00:00<00:00, 93.89it/s, loss=118]\n"
          ]
        },
        {
          "output_type": "stream",
          "name": "stdout",
          "text": [
            "Epoch [405/3000]: Train loss: 160.7108, Valid loss: 162.0581\n"
          ]
        },
        {
          "output_type": "stream",
          "name": "stderr",
          "text": [
            "Epoch[406/3000]: 100%|██████████| 10/10 [00:00<00:00, 118.79it/s, loss=139]\n"
          ]
        },
        {
          "output_type": "stream",
          "name": "stdout",
          "text": [
            "Epoch [406/3000]: Train loss: 161.7237, Valid loss: 161.7436\n"
          ]
        },
        {
          "output_type": "stream",
          "name": "stderr",
          "text": [
            "Epoch[407/3000]: 100%|██████████| 10/10 [00:00<00:00, 123.52it/s, loss=132]\n"
          ]
        },
        {
          "output_type": "stream",
          "name": "stdout",
          "text": [
            "Epoch [407/3000]: Train loss: 161.0835, Valid loss: 161.1971\n"
          ]
        },
        {
          "output_type": "stream",
          "name": "stderr",
          "text": [
            "Epoch[408/3000]: 100%|██████████| 10/10 [00:00<00:00, 124.61it/s, loss=175]\n"
          ]
        },
        {
          "output_type": "stream",
          "name": "stdout",
          "text": [
            "Epoch [408/3000]: Train loss: 163.4009, Valid loss: 161.6485\n"
          ]
        },
        {
          "output_type": "stream",
          "name": "stderr",
          "text": [
            "Epoch[409/3000]: 100%|██████████| 10/10 [00:00<00:00, 125.43it/s, loss=149]\n"
          ]
        },
        {
          "output_type": "stream",
          "name": "stdout",
          "text": [
            "Epoch [409/3000]: Train loss: 161.6247, Valid loss: 162.6371\n"
          ]
        },
        {
          "output_type": "stream",
          "name": "stderr",
          "text": [
            "Epoch[410/3000]: 100%|██████████| 10/10 [00:00<00:00, 121.04it/s, loss=169]\n"
          ]
        },
        {
          "output_type": "stream",
          "name": "stdout",
          "text": [
            "Epoch [410/3000]: Train loss: 162.5494, Valid loss: 161.0844\n"
          ]
        },
        {
          "output_type": "stream",
          "name": "stderr",
          "text": [
            "Epoch[411/3000]: 100%|██████████| 10/10 [00:00<00:00, 125.98it/s, loss=167]\n"
          ]
        },
        {
          "output_type": "stream",
          "name": "stdout",
          "text": [
            "Epoch [411/3000]: Train loss: 162.1618, Valid loss: 162.0833\n"
          ]
        },
        {
          "output_type": "stream",
          "name": "stderr",
          "text": [
            "Epoch[412/3000]: 100%|██████████| 10/10 [00:00<00:00, 125.16it/s, loss=183]\n"
          ]
        },
        {
          "output_type": "stream",
          "name": "stdout",
          "text": [
            "Epoch [412/3000]: Train loss: 162.8856, Valid loss: 163.2824\n"
          ]
        },
        {
          "output_type": "stream",
          "name": "stderr",
          "text": [
            "Epoch[413/3000]: 100%|██████████| 10/10 [00:00<00:00, 126.30it/s, loss=238]\n"
          ]
        },
        {
          "output_type": "stream",
          "name": "stdout",
          "text": [
            "Epoch [413/3000]: Train loss: 165.9393, Valid loss: 163.6004\n"
          ]
        },
        {
          "output_type": "stream",
          "name": "stderr",
          "text": [
            "Epoch[414/3000]: 100%|██████████| 10/10 [00:00<00:00, 129.47it/s, loss=156]\n"
          ]
        },
        {
          "output_type": "stream",
          "name": "stdout",
          "text": [
            "Epoch [414/3000]: Train loss: 160.8165, Valid loss: 159.0551\n"
          ]
        },
        {
          "output_type": "stream",
          "name": "stderr",
          "text": [
            "Epoch[415/3000]: 100%|██████████| 10/10 [00:00<00:00, 124.96it/s, loss=161]\n"
          ]
        },
        {
          "output_type": "stream",
          "name": "stdout",
          "text": [
            "Epoch [415/3000]: Train loss: 160.8875, Valid loss: 160.5346\n"
          ]
        },
        {
          "output_type": "stream",
          "name": "stderr",
          "text": [
            "Epoch[416/3000]: 100%|██████████| 10/10 [00:00<00:00, 133.85it/s, loss=139]\n"
          ]
        },
        {
          "output_type": "stream",
          "name": "stdout",
          "text": [
            "Epoch [416/3000]: Train loss: 159.3614, Valid loss: 158.0025\n"
          ]
        },
        {
          "output_type": "stream",
          "name": "stderr",
          "text": [
            "Epoch[417/3000]: 100%|██████████| 10/10 [00:00<00:00, 127.08it/s, loss=143]\n"
          ]
        },
        {
          "output_type": "stream",
          "name": "stdout",
          "text": [
            "Epoch [417/3000]: Train loss: 159.3378, Valid loss: 160.3110\n"
          ]
        },
        {
          "output_type": "stream",
          "name": "stderr",
          "text": [
            "Epoch[418/3000]: 100%|██████████| 10/10 [00:00<00:00, 138.60it/s, loss=190]\n"
          ]
        },
        {
          "output_type": "stream",
          "name": "stdout",
          "text": [
            "Epoch [418/3000]: Train loss: 161.8896, Valid loss: 160.5605\n"
          ]
        },
        {
          "output_type": "stream",
          "name": "stderr",
          "text": [
            "Epoch[419/3000]: 100%|██████████| 10/10 [00:00<00:00, 124.12it/s, loss=133]\n"
          ]
        },
        {
          "output_type": "stream",
          "name": "stdout",
          "text": [
            "Epoch [419/3000]: Train loss: 158.2634, Valid loss: 156.6134\n"
          ]
        },
        {
          "output_type": "stream",
          "name": "stderr",
          "text": [
            "Epoch[420/3000]: 100%|██████████| 10/10 [00:00<00:00, 139.36it/s, loss=155]\n"
          ]
        },
        {
          "output_type": "stream",
          "name": "stdout",
          "text": [
            "Epoch [420/3000]: Train loss: 159.3668, Valid loss: 158.2871\n"
          ]
        },
        {
          "output_type": "stream",
          "name": "stderr",
          "text": [
            "Epoch[421/3000]: 100%|██████████| 10/10 [00:00<00:00, 115.06it/s, loss=120]\n"
          ]
        },
        {
          "output_type": "stream",
          "name": "stdout",
          "text": [
            "Epoch [421/3000]: Train loss: 157.0874, Valid loss: 156.5578\n"
          ]
        },
        {
          "output_type": "stream",
          "name": "stderr",
          "text": [
            "Epoch[422/3000]: 100%|██████████| 10/10 [00:00<00:00, 140.59it/s, loss=164]\n"
          ]
        },
        {
          "output_type": "stream",
          "name": "stdout",
          "text": [
            "Epoch [422/3000]: Train loss: 159.4523, Valid loss: 160.0338\n",
            "\n",
            "Model is not improving, so we halt the training session.\n"
          ]
        }
      ]
    },
    {
      "cell_type": "markdown",
      "source": [
        "# Testing\n",
        "The predictions of your model on testing set will be stored at pred.csv."
      ],
      "metadata": {
        "id": "IVwkLC4evlze"
      }
    },
    {
      "cell_type": "code",
      "source": [
        "def save_pred(preds, file):\n",
        "    ''' Save predictions to specified file '''\n",
        "    with open(file, 'w') as fp:\n",
        "        writer = csv.writer(fp)\n",
        "        writer.writerow(['id', 'tested_positive'])\n",
        "        for i, p in enumerate(preds):\n",
        "            writer.writerow([i, p])\n",
        "\n",
        "model = My_Model(input_dim=x_train.shape[1]).to(device)\n",
        "model.load_state_dict(torch.load(config['save_path']))\n",
        "preds = predict(test_loader, model, device) \n",
        "save_pred(preds, 'pred.csv')         "
      ],
      "metadata": {
        "colab": {
          "base_uri": "https://localhost:8080/"
        },
        "id": "xE7ZQcU7vlLZ",
        "outputId": "7f3cea59-4e00-4334-c213-cc1504523bce"
      },
      "execution_count": 26,
      "outputs": [
        {
          "output_type": "stream",
          "name": "stderr",
          "text": [
            "100%|██████████| 4/4 [00:00<00:00, 476.65it/s]\n"
          ]
        }
      ]
    }
  ]
}